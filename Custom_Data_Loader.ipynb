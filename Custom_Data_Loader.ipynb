{
  "nbformat": 4,
  "nbformat_minor": 0,
  "metadata": {
    "colab": {
      "name": "Custom_Data_Loader.ipynb",
      "provenance": [],
      "collapsed_sections": [],
      "toc_visible": true,
      "authorship_tag": "ABX9TyPfjv+STp9uc69lzE8PJZj0",
      "include_colab_link": true
    },
    "kernelspec": {
      "name": "python3",
      "display_name": "Python 3"
    }
  },
  "cells": [
    {
      "cell_type": "markdown",
      "metadata": {
        "id": "view-in-github",
        "colab_type": "text"
      },
      "source": [
        "<a href=\"https://colab.research.google.com/github/yuce-8/alpha/blob/main/Custom_Data_Loader.ipynb\" target=\"_parent\"><img src=\"https://colab.research.google.com/assets/colab-badge.svg\" alt=\"Open In Colab\"/></a>"
      ]
    },
    {
      "cell_type": "markdown",
      "metadata": {
        "id": "r3kV6Tf58ofF"
      },
      "source": [
        "# YUCE-8.tech API - CUSTOM DATA LOADER\r\n",
        "**THIS IS FOR EDUCATIONAL / RESEARCH & DEVELOPMENT PURPOSES ONLY!**\r\n"
      ]
    },
    {
      "cell_type": "code",
      "metadata": {
        "id": "hbI7wo8N9Qp5",
        "colab": {
          "base_uri": "https://localhost:8080/"
        },
        "outputId": "0b40151f-88b1-4da6-e2fd-4fedc137f0b2"
      },
      "source": [
        "from __future__ import absolute_import, division, print_function, unicode_literals\r\n",
        "!pip install requests\r\n",
        "\r\n",
        "import json\r\n",
        "import requests\r\n",
        "\r\n",
        "\r\n",
        "INTERVAL_1D = '1d'\r\n",
        "INTERVAL_1HOUR = '1hour'\r\n",
        "INTERVAL_4HOURS = '4hour'\r\n",
        "INTERVAL_30MIN = '30min'\r\n",
        "INTERVAL_15MIN = '15min'\r\n",
        "INTERVAL_5MIN = '5min'\r\n",
        "INTERVAL_1MIN = '1min'\r\n",
        "\r\n",
        "\r\n",
        "license_key = 'default'\r\n",
        "user_name = 'user1@abc.com'\r\n",
        "symbol = 'custom_symbol_123'\r\n",
        "interval = INTERVAL_4HOURS"
      ],
      "execution_count": 51,
      "outputs": [
        {
          "output_type": "stream",
          "text": [
            "Requirement already satisfied: requests in /usr/local/lib/python3.6/dist-packages (2.23.0)\n",
            "Requirement already satisfied: idna<3,>=2.5 in /usr/local/lib/python3.6/dist-packages (from requests) (2.10)\n",
            "Requirement already satisfied: certifi>=2017.4.17 in /usr/local/lib/python3.6/dist-packages (from requests) (2020.12.5)\n",
            "Requirement already satisfied: urllib3!=1.25.0,!=1.25.1,<1.26,>=1.21.1 in /usr/local/lib/python3.6/dist-packages (from requests) (1.24.3)\n",
            "Requirement already satisfied: chardet<4,>=3.0.2 in /usr/local/lib/python3.6/dist-packages (from requests) (3.0.4)\n"
          ],
          "name": "stdout"
        }
      ]
    },
    {
      "cell_type": "markdown",
      "metadata": {
        "id": "jjhOpiFd81xR"
      },
      "source": [
        "## Connect to YUCE-8\r\n",
        "this is subject to change in the next versions"
      ]
    },
    {
      "cell_type": "code",
      "metadata": {
        "id": "44wqCt9L80Fc",
        "colab": {
          "base_uri": "https://localhost:8080/"
        },
        "outputId": "e604a663-08e2-4448-a836-5d230fb0c90e"
      },
      "source": [
        "class GCF():\r\n",
        "  def __init__(self):\r\n",
        "    self.url = 'https://us-central1-yuce-8-v1.cloudfunctions.net/custom_data_loader'\r\n",
        "    print('YUCE-8 CUSTOM DATA LOADER ready @ ', self.url)\r\n",
        "\r\n",
        "  def push(self, json_obj, return_result=False):\r\n",
        "    r = requests.post(self.url, json=json_obj)\r\n",
        "    if return_result:\r\n",
        "      return r\r\n",
        "\r\n",
        "yuce_8 = GCF()"
      ],
      "execution_count": 52,
      "outputs": [
        {
          "output_type": "stream",
          "text": [
            "YUCE-8 CUSTOM DATA LOADER ready @  https://us-central1-yuce-8-v1.cloudfunctions.net/custom_data_loader\n"
          ],
          "name": "stdout"
        }
      ]
    },
    {
      "cell_type": "markdown",
      "metadata": {
        "id": "2b9JjVIA2Hdn"
      },
      "source": [
        "## REMOVE ALL EXISTING ENTRIES"
      ]
    },
    {
      "cell_type": "code",
      "metadata": {
        "id": "QYbNXwnF2FuW"
      },
      "source": [
        "def remove_all_entries(user_name, symbol, interval):\r\n",
        "  global license_key\r\n",
        "  req = yuce_8.push({\r\n",
        "      'action': 'remove_all_entries',\r\n",
        "      'key': license_key,\r\n",
        "      'user_name': user_name,\r\n",
        "      'symbol': symbol,\r\n",
        "      'interval': interval\r\n",
        "  }, return_result=True)\r\n",
        "  if req.status_code == 200:\r\n",
        "    return req.json()['result']\r\n",
        "  else:\r\n",
        "    return ';-( ' + req.json()['error']\r\n",
        "\r\n",
        "\r\n",
        "remove_all_entries(user_name, symbol, interval)"
      ],
      "execution_count": 53,
      "outputs": []
    },
    {
      "cell_type": "markdown",
      "metadata": {
        "id": "osZ18Dg-R6TQ"
      },
      "source": [
        "## ATTACH CANDLES \r\n",
        "the web service will automatically detect existing entries (by date)"
      ]
    },
    {
      "cell_type": "code",
      "metadata": {
        "id": "rjfOB6V2R5m4",
        "colab": {
          "base_uri": "https://localhost:8080/"
        },
        "outputId": "c8aa43d0-bd55-410a-e75f-41dd543e859d"
      },
      "source": [
        "def attach_candles(user_name, symbol, interval, candles):\r\n",
        "  global license_key\r\n",
        "  req = yuce_8.push({\r\n",
        "      'action': 'attach_candles',\r\n",
        "      'key': license_key,\r\n",
        "      'user_name': user_name,\r\n",
        "      'symbol': symbol,\r\n",
        "      'interval': interval,\r\n",
        "      'candles': candles\r\n",
        "  }, return_result=True)\r\n",
        "  if req.status_code == 200:\r\n",
        "    return req.json()['result']\r\n",
        "  else:\r\n",
        "    return ';-( ' + req.json()['error']\r\n",
        "\r\n",
        "\r\n",
        "all_candles = []\r\n",
        "def add_candle(timestamp, open_, high, low, close, adj_close, volume):\r\n",
        "    global all_candles\r\n",
        "    all_candles.append({'Date': timestamp, 'Open': open_, 'High': high, 'Low': low, 'Close': close, 'Adj Close': adj_close, 'Volume': volume})\r\n",
        "\r\n",
        "add_candle('2021-04-01 20:00:00', 10, 12, 10, 10, 10, 100)\r\n",
        "\r\n",
        "print(attach_candles(user_name, symbol, interval, all_candles), ' candles attached to custom database')"
      ],
      "execution_count": 54,
      "outputs": [
        {
          "output_type": "stream",
          "text": [
            "1  candles attached to custom database\n"
          ],
          "name": "stdout"
        }
      ]
    },
    {
      "cell_type": "markdown",
      "metadata": {
        "id": "Hzf7BQsKDw7h"
      },
      "source": [
        "**ALTERNATIVELY** upload a complete CSV file for the given *INTERVAL*"
      ]
    },
    {
      "cell_type": "code",
      "metadata": {
        "colab": {
          "resources": {
            "http://localhost:8080/nbextensions/google.colab/files.js": {
              "data": "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",
              "ok": true,
              "headers": [
                [
                  "content-type",
                  "application/javascript"
                ]
              ],
              "status": 200,
              "status_text": ""
            }
          },
          "base_uri": "https://localhost:8080/",
          "height": 72
        },
        "id": "yyOkV7y5D6LX",
        "outputId": "f58a4fd1-cf8f-4286-9e91-3ce225748524"
      },
      "source": [
        "from google.colab import files\r\n",
        "uploaded = files.upload()"
      ],
      "execution_count": 55,
      "outputs": [
        {
          "output_type": "display_data",
          "data": {
            "text/html": [
              "\n",
              "     <input type=\"file\" id=\"files-99181617-80c5-4bd3-9e0c-968c909d2c70\" name=\"files[]\" multiple disabled\n",
              "        style=\"border:none\" />\n",
              "     <output id=\"result-99181617-80c5-4bd3-9e0c-968c909d2c70\">\n",
              "      Upload widget is only available when the cell has been executed in the\n",
              "      current browser session. Please rerun this cell to enable.\n",
              "      </output>\n",
              "      <script src=\"/nbextensions/google.colab/files.js\"></script> "
            ],
            "text/plain": [
              "<IPython.core.display.HTML object>"
            ]
          },
          "metadata": {
            "tags": []
          }
        },
        {
          "output_type": "stream",
          "text": [
            "Saving NIFTYPE1210000N.csv to NIFTYPE1210000N (1).csv\n"
          ],
          "name": "stdout"
        }
      ]
    },
    {
      "cell_type": "markdown",
      "metadata": {
        "id": "IStrVvUOF9ko"
      },
      "source": [
        "transfer the csv into a pandas and diplay it (for verification purposes)"
      ]
    },
    {
      "cell_type": "code",
      "metadata": {
        "colab": {
          "base_uri": "https://localhost:8080/",
          "height": 433
        },
        "id": "o-ISJfdXFBK9",
        "outputId": "53ff5838-87f4-4ad5-f9e5-42e806de7e92"
      },
      "source": [
        "import io\r\n",
        "import pandas as pd\r\n",
        "file_name = list(uploaded.keys())[0]\r\n",
        "print('processing ', file_name)\r\n",
        "df = pd.read_csv(io.BytesIO(uploaded[file_name]))\r\n",
        "df"
      ],
      "execution_count": 56,
      "outputs": [
        {
          "output_type": "stream",
          "text": [
            "processing  NIFTYPE1210000N.csv\n"
          ],
          "name": "stdout"
        },
        {
          "output_type": "execute_result",
          "data": {
            "text/html": [
              "<div>\n",
              "<style scoped>\n",
              "    .dataframe tbody tr th:only-of-type {\n",
              "        vertical-align: middle;\n",
              "    }\n",
              "\n",
              "    .dataframe tbody tr th {\n",
              "        vertical-align: top;\n",
              "    }\n",
              "\n",
              "    .dataframe thead th {\n",
              "        text-align: right;\n",
              "    }\n",
              "</style>\n",
              "<table border=\"1\" class=\"dataframe\">\n",
              "  <thead>\n",
              "    <tr style=\"text-align: right;\">\n",
              "      <th></th>\n",
              "      <th>DateTime</th>\n",
              "      <th>O</th>\n",
              "      <th>H</th>\n",
              "      <th>L</th>\n",
              "      <th>C</th>\n",
              "      <th>Vol</th>\n",
              "    </tr>\n",
              "  </thead>\n",
              "  <tbody>\n",
              "    <tr>\n",
              "      <th>0</th>\n",
              "      <td>2020-02-01 09:20:00</td>\n",
              "      <td>305.00</td>\n",
              "      <td>342.50</td>\n",
              "      <td>305.00</td>\n",
              "      <td>313.95</td>\n",
              "      <td>29175</td>\n",
              "    </tr>\n",
              "    <tr>\n",
              "      <th>1</th>\n",
              "      <td>2020-02-01 09:25:00</td>\n",
              "      <td>315.45</td>\n",
              "      <td>323.10</td>\n",
              "      <td>304.55</td>\n",
              "      <td>306.55</td>\n",
              "      <td>12000</td>\n",
              "    </tr>\n",
              "    <tr>\n",
              "      <th>2</th>\n",
              "      <td>2020-02-01 09:30:00</td>\n",
              "      <td>306.60</td>\n",
              "      <td>307.15</td>\n",
              "      <td>298.75</td>\n",
              "      <td>303.60</td>\n",
              "      <td>7875</td>\n",
              "    </tr>\n",
              "    <tr>\n",
              "      <th>3</th>\n",
              "      <td>2020-02-01 09:35:00</td>\n",
              "      <td>301.80</td>\n",
              "      <td>303.30</td>\n",
              "      <td>290.75</td>\n",
              "      <td>295.50</td>\n",
              "      <td>12900</td>\n",
              "    </tr>\n",
              "    <tr>\n",
              "      <th>4</th>\n",
              "      <td>2020-02-01 09:40:00</td>\n",
              "      <td>295.70</td>\n",
              "      <td>303.50</td>\n",
              "      <td>294.80</td>\n",
              "      <td>299.75</td>\n",
              "      <td>10050</td>\n",
              "    </tr>\n",
              "    <tr>\n",
              "      <th>...</th>\n",
              "      <td>...</td>\n",
              "      <td>...</td>\n",
              "      <td>...</td>\n",
              "      <td>...</td>\n",
              "      <td>...</td>\n",
              "      <td>...</td>\n",
              "    </tr>\n",
              "    <tr>\n",
              "      <th>1486</th>\n",
              "      <td>2020-02-28 15:10:00</td>\n",
              "      <td>982.05</td>\n",
              "      <td>995.00</td>\n",
              "      <td>982.05</td>\n",
              "      <td>993.00</td>\n",
              "      <td>1350</td>\n",
              "    </tr>\n",
              "    <tr>\n",
              "      <th>1487</th>\n",
              "      <td>2020-02-28 15:15:00</td>\n",
              "      <td>990.00</td>\n",
              "      <td>990.00</td>\n",
              "      <td>965.00</td>\n",
              "      <td>965.00</td>\n",
              "      <td>2700</td>\n",
              "    </tr>\n",
              "    <tr>\n",
              "      <th>1488</th>\n",
              "      <td>2020-02-28 15:20:00</td>\n",
              "      <td>950.00</td>\n",
              "      <td>950.00</td>\n",
              "      <td>940.00</td>\n",
              "      <td>940.00</td>\n",
              "      <td>375</td>\n",
              "    </tr>\n",
              "    <tr>\n",
              "      <th>1489</th>\n",
              "      <td>2020-02-28 15:25:00</td>\n",
              "      <td>955.00</td>\n",
              "      <td>961.20</td>\n",
              "      <td>950.25</td>\n",
              "      <td>950.25</td>\n",
              "      <td>825</td>\n",
              "    </tr>\n",
              "    <tr>\n",
              "      <th>1490</th>\n",
              "      <td>2020-02-28 15:30:00</td>\n",
              "      <td>955.00</td>\n",
              "      <td>956.55</td>\n",
              "      <td>948.65</td>\n",
              "      <td>950.70</td>\n",
              "      <td>2700</td>\n",
              "    </tr>\n",
              "  </tbody>\n",
              "</table>\n",
              "<p>1491 rows × 6 columns</p>\n",
              "</div>"
            ],
            "text/plain": [
              "                 DateTime       O       H       L       C    Vol\n",
              "0     2020-02-01 09:20:00  305.00  342.50  305.00  313.95  29175\n",
              "1     2020-02-01 09:25:00  315.45  323.10  304.55  306.55  12000\n",
              "2     2020-02-01 09:30:00  306.60  307.15  298.75  303.60   7875\n",
              "3     2020-02-01 09:35:00  301.80  303.30  290.75  295.50  12900\n",
              "4     2020-02-01 09:40:00  295.70  303.50  294.80  299.75  10050\n",
              "...                   ...     ...     ...     ...     ...    ...\n",
              "1486  2020-02-28 15:10:00  982.05  995.00  982.05  993.00   1350\n",
              "1487  2020-02-28 15:15:00  990.00  990.00  965.00  965.00   2700\n",
              "1488  2020-02-28 15:20:00  950.00  950.00  940.00  940.00    375\n",
              "1489  2020-02-28 15:25:00  955.00  961.20  950.25  950.25    825\n",
              "1490  2020-02-28 15:30:00  955.00  956.55  948.65  950.70   2700\n",
              "\n",
              "[1491 rows x 6 columns]"
            ]
          },
          "metadata": {
            "tags": []
          },
          "execution_count": 56
        }
      ]
    },
    {
      "cell_type": "markdown",
      "metadata": {
        "id": "i1MVPGUNG9UP"
      },
      "source": [
        "now upload this dataframe to YUCE-8"
      ]
    },
    {
      "cell_type": "code",
      "metadata": {
        "colab": {
          "base_uri": "https://localhost:8080/"
        },
        "id": "Bo8Em0XYHAoV",
        "outputId": "dc298b8e-a1b4-42ba-afbf-8621f572bd35"
      },
      "source": [
        "chunk_max = 500\r\n",
        "chunk_counter = 0\r\n",
        "\r\n",
        "all_candles = []\r\n",
        "for index, row in df.iterrows():\r\n",
        "\r\n",
        "  add_candle(str(row[0]), row[1], row[2], row[3], row[4], row[4], row[5])  \r\n",
        "  chunk_counter += 1\r\n",
        "  if chunk_counter >= chunk_max:\r\n",
        "    print(attach_candles(user_name, symbol, interval, all_candles), ' candles attached to custom database')\r\n",
        "    all_candles = []\r\n",
        "    chunk_counter = 0\r\n",
        "\r\n",
        "# any candles left?\r\n",
        "if len(all_candles) > 0:\r\n",
        "    print(attach_candles(user_name, symbol, interval, all_candles), ' candles attached to custom database')\r\n"
      ],
      "execution_count": 58,
      "outputs": [
        {
          "output_type": "stream",
          "text": [
            "0  candles attached to custom database\n",
            "500  candles attached to custom database\n",
            "491  candles attached to custom database\n"
          ],
          "name": "stdout"
        }
      ]
    },
    {
      "cell_type": "markdown",
      "metadata": {
        "id": "brNoQAZu_Vp6"
      },
      "source": [
        "## GET FIRST AND LAST TIMESTAMP OF EXISTING ENTRIES \r\n",
        "the checks the custom database and returns the first and last date of all existing entries"
      ]
    },
    {
      "cell_type": "code",
      "metadata": {
        "colab": {
          "base_uri": "https://localhost:8080/"
        },
        "id": "HqguYI_1_Uro",
        "outputId": "03abd993-7e72-4ee5-be73-620dcdde9190"
      },
      "source": [
        "def get_first_and_last_entry(user_name, symbol, interval):\r\n",
        "  global license_key\r\n",
        "  req = yuce_8.push({\r\n",
        "      'action': 'get_first_and_last_entry',\r\n",
        "      'key': license_key,\r\n",
        "      'user_name': user_name,\r\n",
        "      'symbol': symbol,\r\n",
        "      'interval': interval\r\n",
        "  }, return_result=True)\r\n",
        "  if req.status_code == 200:\r\n",
        "    return req.json()['result']\r\n",
        "  else:\r\n",
        "    return ';-( ' + req.json()['error']\r\n",
        "\r\n",
        "\r\n",
        "print(get_first_and_last_entry(user_name, symbol, interval))"
      ],
      "execution_count": 59,
      "outputs": [
        {
          "output_type": "stream",
          "text": [
            "['2020-02-01 09:20:00', '2021-04-01 20:00:00']\n"
          ],
          "name": "stdout"
        }
      ]
    },
    {
      "cell_type": "markdown",
      "metadata": {
        "id": "4w9Cis4KuDJy"
      },
      "source": [
        "## GET DATES OF ALL  EXISTING ENTRIES"
      ]
    },
    {
      "cell_type": "code",
      "metadata": {
        "colab": {
          "base_uri": "https://localhost:8080/"
        },
        "id": "sS1wpNCsuOrH",
        "outputId": "7f1f49f8-34a3-4a1b-964a-2ebe9752e11d"
      },
      "source": [
        "def get_all_dates(user_name, symbol, interval):\r\n",
        "  global license_key\r\n",
        "  req = yuce_8.push({\r\n",
        "      'action': 'get_all_dates',\r\n",
        "      'key': license_key,\r\n",
        "      'user_name': user_name,\r\n",
        "      'symbol': symbol,\r\n",
        "      'interval': interval\r\n",
        "  }, return_result=True)\r\n",
        "  if req.status_code == 200:\r\n",
        "    return req.json()['result']\r\n",
        "  else:\r\n",
        "    return ';-( ' + req.json()['error']\r\n",
        "\r\n",
        "\r\n",
        "print(get_all_dates(user_name, symbol, interval))"
      ],
      "execution_count": 60,
      "outputs": [
        {
          "output_type": "stream",
          "text": [
            "['2020-02-01 09:20:00', '2020-02-01 09:25:00', '2020-02-01 09:30:00', '2020-02-01 09:35:00', '2020-02-01 09:40:00', '2020-02-01 09:45:00', '2020-02-01 09:50:00', '2020-02-01 09:55:00', '2020-02-01 10:00:00', '2020-02-01 10:05:00', '2020-02-01 10:10:00', '2020-02-01 10:15:00', '2020-02-01 10:20:00', '2020-02-01 10:25:00', '2020-02-01 10:30:00', '2020-02-01 10:35:00', '2020-02-01 10:40:00', '2020-02-01 10:45:00', '2020-02-01 10:50:00', '2020-02-01 10:55:00', '2020-02-01 11:00:00', '2020-02-01 11:05:00', '2020-02-01 11:10:00', '2020-02-01 11:15:00', '2020-02-01 11:20:00', '2020-02-01 11:25:00', '2020-02-01 11:30:00', '2020-02-01 11:35:00', '2020-02-01 11:40:00', '2020-02-01 11:45:00', '2020-02-01 11:50:00', '2020-02-01 11:55:00', '2020-02-01 12:00:00', '2020-02-01 12:05:00', '2020-02-01 12:10:00', '2020-02-01 12:15:00', '2020-02-01 12:20:00', '2020-02-01 12:25:00', '2020-02-01 12:30:00', '2020-02-01 12:35:00', '2020-02-01 12:40:00', '2020-02-01 12:45:00', '2020-02-01 12:50:00', '2020-02-01 12:55:00', '2020-02-01 13:00:00', '2020-02-01 13:05:00', '2020-02-01 13:10:00', '2020-02-01 13:15:00', '2020-02-01 13:20:00', '2020-02-01 13:25:00', '2020-02-01 13:30:00', '2020-02-01 13:35:00', '2020-02-01 13:40:00', '2020-02-01 13:45:00', '2020-02-01 13:50:00', '2020-02-01 13:55:00', '2020-02-01 14:00:00', '2020-02-01 14:05:00', '2020-02-01 14:10:00', '2020-02-01 14:15:00', '2020-02-01 14:20:00', '2020-02-01 14:25:00', '2020-02-01 14:30:00', '2020-02-01 14:35:00', '2020-02-01 14:40:00', '2020-02-01 14:45:00', '2020-02-01 14:50:00', '2020-02-01 14:55:00', '2020-02-01 15:00:00', '2020-02-01 15:05:00', '2020-02-01 15:10:00', '2020-02-01 15:15:00', '2020-02-01 15:20:00', '2020-02-01 15:25:00', '2020-02-01 15:30:00', '2020-02-03 09:20:00', '2020-02-03 09:25:00', '2020-02-03 09:30:00', '2020-02-03 09:35:00', '2020-02-03 09:40:00', '2020-02-03 09:45:00', '2020-02-03 09:50:00', '2020-02-03 09:55:00', '2020-02-03 10:00:00', '2020-02-03 10:05:00', '2020-02-03 10:10:00', '2020-02-03 10:15:00', '2020-02-03 10:20:00', '2020-02-03 10:25:00', '2020-02-03 10:30:00', '2020-02-03 10:35:00', '2020-02-03 10:40:00', '2020-02-03 10:45:00', '2020-02-03 10:50:00', '2020-02-03 10:55:00', '2020-02-03 11:00:00', '2020-02-03 11:05:00', '2020-02-03 11:10:00', '2020-02-03 11:15:00', '2020-02-03 11:20:00', '2020-02-03 11:25:00', '2020-02-03 11:30:00', '2020-02-03 11:35:00', '2020-02-03 11:40:00', '2020-02-03 11:45:00', '2020-02-03 11:50:00', '2020-02-03 11:55:00', '2020-02-03 12:00:00', '2020-02-03 12:05:00', '2020-02-03 12:10:00', '2020-02-03 12:15:00', '2020-02-03 12:20:00', '2020-02-03 12:25:00', '2020-02-03 12:30:00', '2020-02-03 12:35:00', '2020-02-03 12:40:00', '2020-02-03 12:45:00', '2020-02-03 12:50:00', '2020-02-03 12:55:00', '2020-02-03 13:00:00', '2020-02-03 13:05:00', '2020-02-03 13:10:00', '2020-02-03 13:15:00', '2020-02-03 13:20:00', '2020-02-03 13:25:00', '2020-02-03 13:30:00', '2020-02-03 13:35:00', '2020-02-03 13:40:00', '2020-02-03 13:45:00', '2020-02-03 13:50:00', '2020-02-03 13:55:00', '2020-02-03 14:00:00', '2020-02-03 14:05:00', '2020-02-03 14:10:00', '2020-02-03 14:15:00', '2020-02-03 14:20:00', '2020-02-03 14:25:00', '2020-02-03 14:30:00', '2020-02-03 14:35:00', '2020-02-03 14:40:00', '2020-02-03 14:45:00', '2020-02-03 14:50:00', '2020-02-03 14:55:00', '2020-02-03 15:00:00', '2020-02-03 15:05:00', '2020-02-03 15:10:00', '2020-02-03 15:15:00', '2020-02-03 15:20:00', '2020-02-03 15:25:00', '2020-02-03 15:30:00', '2020-02-04 09:20:00', '2020-02-04 09:25:00', '2020-02-04 09:30:00', '2020-02-04 09:35:00', '2020-02-04 09:40:00', '2020-02-04 09:45:00', '2020-02-04 09:50:00', '2020-02-04 09:55:00', '2020-02-04 10:00:00', '2020-02-04 10:05:00', '2020-02-04 10:10:00', '2020-02-04 10:15:00', '2020-02-04 10:20:00', '2020-02-04 10:25:00', '2020-02-04 10:30:00', '2020-02-04 10:35:00', '2020-02-04 10:40:00', '2020-02-04 10:45:00', '2020-02-04 10:50:00', '2020-02-04 10:55:00', '2020-02-04 11:00:00', '2020-02-04 11:05:00', '2020-02-04 11:10:00', '2020-02-04 11:15:00', '2020-02-04 11:20:00', '2020-02-04 11:25:00', '2020-02-04 11:30:00', '2020-02-04 11:35:00', '2020-02-04 11:40:00', '2020-02-04 11:45:00', '2020-02-04 11:50:00', '2020-02-04 11:55:00', '2020-02-04 12:00:00', '2020-02-04 12:05:00', '2020-02-04 12:10:00', '2020-02-04 12:15:00', '2020-02-04 12:20:00', '2020-02-04 12:25:00', '2020-02-04 12:30:00', '2020-02-04 12:35:00', '2020-02-04 12:40:00', '2020-02-04 12:45:00', '2020-02-04 12:50:00', '2020-02-04 12:55:00', '2020-02-04 13:00:00', '2020-02-04 13:05:00', '2020-02-04 13:10:00', '2020-02-04 13:15:00', '2020-02-04 13:20:00', '2020-02-04 13:25:00', '2020-02-04 13:30:00', '2020-02-04 13:35:00', '2020-02-04 13:40:00', '2020-02-04 13:45:00', '2020-02-04 13:50:00', '2020-02-04 13:55:00', '2020-02-04 14:00:00', '2020-02-04 14:05:00', '2020-02-04 14:10:00', '2020-02-04 14:15:00', '2020-02-04 14:20:00', '2020-02-04 14:25:00', '2020-02-04 14:30:00', '2020-02-04 14:35:00', '2020-02-04 14:40:00', '2020-02-04 14:45:00', '2020-02-04 14:50:00', '2020-02-04 14:55:00', '2020-02-04 15:00:00', '2020-02-04 15:05:00', '2020-02-04 15:10:00', '2020-02-04 15:15:00', '2020-02-04 15:20:00', '2020-02-04 15:25:00', '2020-02-04 15:30:00', '2020-02-05 09:20:00', '2020-02-05 09:25:00', '2020-02-05 09:30:00', '2020-02-05 09:35:00', '2020-02-05 09:40:00', '2020-02-05 09:45:00', '2020-02-05 09:50:00', '2020-02-05 09:55:00', '2020-02-05 10:00:00', '2020-02-05 10:05:00', '2020-02-05 10:10:00', '2020-02-05 10:15:00', '2020-02-05 10:20:00', '2020-02-05 10:25:00', '2020-02-05 10:30:00', '2020-02-05 10:35:00', '2020-02-05 10:40:00', '2020-02-05 10:45:00', '2020-02-05 10:50:00', '2020-02-05 10:55:00', '2020-02-05 11:00:00', '2020-02-05 11:05:00', '2020-02-05 11:10:00', '2020-02-05 11:15:00', '2020-02-05 11:20:00', '2020-02-05 11:25:00', '2020-02-05 11:30:00', '2020-02-05 11:35:00', '2020-02-05 11:40:00', '2020-02-05 11:45:00', '2020-02-05 11:50:00', '2020-02-05 11:55:00', '2020-02-05 12:00:00', '2020-02-05 12:05:00', '2020-02-05 12:10:00', '2020-02-05 12:15:00', '2020-02-05 12:20:00', '2020-02-05 12:25:00', '2020-02-05 12:30:00', '2020-02-05 12:35:00', '2020-02-05 12:40:00', '2020-02-05 12:45:00', '2020-02-05 12:50:00', '2020-02-05 12:55:00', '2020-02-05 13:00:00', '2020-02-05 13:05:00', '2020-02-05 13:10:00', '2020-02-05 13:15:00', '2020-02-05 13:20:00', '2020-02-05 13:25:00', '2020-02-05 13:30:00', '2020-02-05 13:35:00', '2020-02-05 13:40:00', '2020-02-05 13:45:00', '2020-02-05 13:50:00', '2020-02-05 13:55:00', '2020-02-05 14:00:00', '2020-02-05 14:05:00', '2020-02-05 14:10:00', '2020-02-05 14:15:00', '2020-02-05 14:20:00', '2020-02-05 14:25:00', '2020-02-05 14:30:00', '2020-02-05 14:35:00', '2020-02-05 14:40:00', '2020-02-05 14:45:00', '2020-02-05 14:50:00', '2020-02-05 14:55:00', '2020-02-05 15:00:00', '2020-02-05 15:05:00', '2020-02-05 15:10:00', '2020-02-05 15:15:00', '2020-02-05 15:20:00', '2020-02-05 15:25:00', '2020-02-05 15:30:00', '2020-02-06 09:20:00', '2020-02-06 09:25:00', '2020-02-06 09:30:00', '2020-02-06 09:35:00', '2020-02-06 09:40:00', '2020-02-06 09:45:00', '2020-02-06 09:50:00', '2020-02-06 09:55:00', '2020-02-06 10:00:00', '2020-02-06 10:05:00', '2020-02-06 10:10:00', '2020-02-06 10:15:00', '2020-02-06 10:20:00', '2020-02-06 10:25:00', '2020-02-06 10:30:00', '2020-02-06 10:35:00', '2020-02-06 10:40:00', '2020-02-06 10:45:00', '2020-02-06 10:50:00', '2020-02-06 10:55:00', '2020-02-06 11:00:00', '2020-02-06 11:05:00', '2020-02-06 11:10:00', '2020-02-06 11:15:00', '2020-02-06 11:20:00', '2020-02-06 11:25:00', '2020-02-06 11:30:00', '2020-02-06 11:35:00', '2020-02-06 11:40:00', '2020-02-06 11:45:00', '2020-02-06 11:50:00', '2020-02-06 11:55:00', '2020-02-06 12:00:00', '2020-02-06 12:05:00', '2020-02-06 12:10:00', '2020-02-06 12:15:00', '2020-02-06 12:20:00', '2020-02-06 12:25:00', '2020-02-06 12:30:00', '2020-02-06 12:35:00', '2020-02-06 12:40:00', '2020-02-06 12:45:00', '2020-02-06 12:50:00', '2020-02-06 12:55:00', '2020-02-06 13:00:00', '2020-02-06 13:05:00', '2020-02-06 13:10:00', '2020-02-06 13:15:00', '2020-02-06 13:20:00', '2020-02-06 13:25:00', '2020-02-06 13:30:00', '2020-02-06 13:35:00', '2020-02-06 13:40:00', '2020-02-06 13:45:00', '2020-02-06 13:50:00', '2020-02-06 13:55:00', '2020-02-06 14:00:00', '2020-02-06 14:05:00', '2020-02-06 14:10:00', '2020-02-06 14:15:00', '2020-02-06 14:20:00', '2020-02-06 14:25:00', '2020-02-06 14:30:00', '2020-02-06 14:35:00', '2020-02-06 14:40:00', '2020-02-06 14:45:00', '2020-02-06 14:50:00', '2020-02-06 14:55:00', '2020-02-06 15:00:00', '2020-02-06 15:05:00', '2020-02-06 15:10:00', '2020-02-06 15:15:00', '2020-02-06 15:20:00', '2020-02-06 15:25:00', '2020-02-06 15:30:00', '2020-02-07 09:20:00', '2020-02-07 09:25:00', '2020-02-07 09:30:00', '2020-02-07 09:35:00', '2020-02-07 09:40:00', '2020-02-07 09:45:00', '2020-02-07 09:50:00', '2020-02-07 09:55:00', '2020-02-07 10:00:00', '2020-02-07 10:05:00', '2020-02-07 10:10:00', '2020-02-07 10:15:00', '2020-02-07 10:20:00', '2020-02-07 10:25:00', '2020-02-07 10:30:00', '2020-02-07 10:35:00', '2020-02-07 10:40:00', '2020-02-07 10:45:00', '2020-02-07 10:50:00', '2020-02-07 10:55:00', '2020-02-07 11:00:00', '2020-02-07 11:05:00', '2020-02-07 11:10:00', '2020-02-07 11:15:00', '2020-02-07 11:20:00', '2020-02-07 11:25:00', '2020-02-07 11:30:00', '2020-02-07 11:35:00', '2020-02-07 11:40:00', '2020-02-07 11:45:00', '2020-02-07 11:50:00', '2020-02-07 11:55:00', '2020-02-07 12:00:00', '2020-02-07 12:05:00', '2020-02-07 12:10:00', '2020-02-07 12:15:00', '2020-02-07 12:20:00', '2020-02-07 12:25:00', '2020-02-07 12:30:00', '2020-02-07 12:35:00', '2020-02-07 12:40:00', '2020-02-07 12:45:00', '2020-02-07 12:50:00', '2020-02-07 12:55:00', '2020-02-07 13:00:00', '2020-02-07 13:05:00', '2020-02-07 13:10:00', '2020-02-07 13:15:00', '2020-02-07 13:20:00', '2020-02-07 13:25:00', '2020-02-07 13:30:00', '2020-02-07 13:35:00', '2020-02-07 13:40:00', '2020-02-07 13:45:00', '2020-02-07 13:50:00', '2020-02-07 13:55:00', '2020-02-07 14:00:00', '2020-02-07 14:05:00', '2020-02-07 14:10:00', '2020-02-07 14:15:00', '2020-02-07 14:20:00', '2020-02-07 14:25:00', '2020-02-07 14:30:00', '2020-02-07 14:35:00', '2020-02-07 14:40:00', '2020-02-07 14:45:00', '2020-02-07 14:50:00', '2020-02-07 14:55:00', '2020-02-07 15:00:00', '2020-02-07 15:05:00', '2020-02-07 15:10:00', '2020-02-07 15:15:00', '2020-02-07 15:20:00', '2020-02-07 15:25:00', '2020-02-07 15:30:00', '2020-02-10 09:20:00', '2020-02-10 09:25:00', '2020-02-10 09:30:00', '2020-02-10 09:35:00', '2020-02-10 09:40:00', '2020-02-10 09:45:00', '2020-02-10 09:50:00', '2020-02-10 09:55:00', '2020-02-10 10:00:00', '2020-02-10 10:05:00', '2020-02-10 10:10:00', '2020-02-10 10:15:00', '2020-02-10 10:20:00', '2020-02-10 10:25:00', '2020-02-10 10:30:00', '2020-02-10 10:35:00', '2020-02-10 10:40:00', '2020-02-10 10:45:00', '2020-02-10 10:50:00', '2020-02-10 10:55:00', '2020-02-10 11:00:00', '2020-02-10 11:05:00', '2020-02-10 11:10:00', '2020-02-10 11:15:00', '2020-02-10 11:20:00', '2020-02-10 11:25:00', '2020-02-10 11:30:00', '2020-02-10 11:35:00', '2020-02-10 11:40:00', '2020-02-10 11:45:00', '2020-02-10 11:50:00', '2020-02-10 11:55:00', '2020-02-10 12:00:00', '2020-02-10 12:05:00', '2020-02-10 12:10:00', '2020-02-10 12:15:00', '2020-02-10 12:20:00', '2020-02-10 12:25:00', '2020-02-10 12:30:00', '2020-02-10 12:35:00', '2020-02-10 12:40:00', '2020-02-10 12:45:00', '2020-02-10 12:50:00', '2020-02-10 12:55:00', '2020-02-10 13:00:00', '2020-02-10 13:05:00', '2020-02-10 13:10:00', '2020-02-10 13:15:00', '2020-02-10 13:20:00', '2020-02-10 13:25:00', '2020-02-10 13:30:00', '2020-02-10 13:35:00', '2020-02-10 13:40:00', '2020-02-10 13:45:00', '2020-02-10 13:50:00', '2020-02-10 13:55:00', '2020-02-10 14:00:00', '2020-02-10 14:05:00', '2020-02-10 14:10:00', '2020-02-10 14:15:00', '2020-02-10 14:20:00', '2020-02-10 14:25:00', '2020-02-10 14:30:00', '2020-02-10 14:35:00', '2020-02-10 14:40:00', '2020-02-10 14:45:00', '2020-02-10 14:50:00', '2020-02-10 14:55:00', '2020-02-10 15:00:00', '2020-02-10 15:05:00', '2020-02-10 15:10:00', '2020-02-10 15:15:00', '2020-02-10 15:20:00', '2020-02-10 15:25:00', '2020-02-10 15:30:00', '2020-02-11 09:20:00', '2020-02-11 09:25:00', '2020-02-11 09:30:00', '2020-02-11 09:35:00', '2020-02-11 09:40:00', '2020-02-11 09:45:00', '2020-02-11 09:50:00', '2020-02-11 09:55:00', '2020-02-11 10:00:00', '2020-02-11 10:05:00', '2020-02-11 10:10:00', '2020-02-11 10:15:00', '2020-02-11 10:20:00', '2020-02-11 10:25:00', '2020-02-11 10:30:00', '2020-02-11 10:35:00', '2020-02-11 10:40:00', '2020-02-11 10:45:00', '2020-02-11 10:50:00', '2020-02-11 10:55:00', '2020-02-11 11:00:00', '2020-02-11 11:05:00', '2020-02-11 11:10:00', '2020-02-11 11:15:00', '2020-02-11 11:20:00', '2020-02-11 11:25:00', '2020-02-11 11:30:00', '2020-02-11 11:35:00', '2020-02-11 11:40:00', '2020-02-11 11:45:00', '2020-02-11 11:50:00', '2020-02-11 11:55:00', '2020-02-11 12:00:00', '2020-02-11 12:05:00', '2020-02-11 12:10:00', '2020-02-11 12:15:00', '2020-02-11 12:20:00', '2020-02-11 12:25:00', '2020-02-11 12:30:00', '2020-02-11 12:35:00', '2020-02-11 12:40:00', '2020-02-11 12:45:00', '2020-02-11 12:50:00', '2020-02-11 12:55:00', '2020-02-11 13:00:00', '2020-02-11 13:05:00', '2020-02-11 13:10:00', '2020-02-11 13:15:00', '2020-02-11 13:20:00', '2020-02-11 13:25:00', '2020-02-11 13:30:00', '2020-02-11 13:35:00', '2020-02-11 13:40:00', '2020-02-11 13:45:00', '2020-02-11 13:50:00', '2020-02-11 13:55:00', '2020-02-11 14:00:00', '2020-02-11 14:05:00', '2020-02-11 14:10:00', '2020-02-11 14:15:00', '2020-02-11 14:20:00', '2020-02-11 14:25:00', '2020-02-11 14:30:00', '2020-02-11 14:35:00', '2020-02-11 14:40:00', '2020-02-11 14:45:00', '2020-02-11 14:50:00', '2020-02-11 14:55:00', '2020-02-11 15:00:00', '2020-02-11 15:05:00', '2020-02-11 15:10:00', '2020-02-11 15:15:00', '2020-02-11 15:20:00', '2020-02-11 15:25:00', '2020-02-11 15:30:00', '2020-02-12 09:20:00', '2020-02-12 09:25:00', '2020-02-12 09:30:00', '2020-02-12 09:35:00', '2020-02-12 09:40:00', '2020-02-12 09:45:00', '2020-02-12 09:50:00', '2020-02-12 09:55:00', '2020-02-12 10:00:00', '2020-02-12 10:05:00', '2020-02-12 10:10:00', '2020-02-12 10:15:00', '2020-02-12 10:20:00', '2020-02-12 10:25:00', '2020-02-12 10:30:00', '2020-02-12 10:35:00', '2020-02-12 10:40:00', '2020-02-12 10:45:00', '2020-02-12 10:50:00', '2020-02-12 10:55:00', '2020-02-12 11:00:00', '2020-02-12 11:05:00', '2020-02-12 11:10:00', '2020-02-12 11:15:00', '2020-02-12 11:20:00', '2020-02-12 11:25:00', '2020-02-12 11:30:00', '2020-02-12 11:35:00', '2020-02-12 11:40:00', '2020-02-12 11:45:00', '2020-02-12 11:50:00', '2020-02-12 11:55:00', '2020-02-12 12:00:00', '2020-02-12 12:05:00', '2020-02-12 12:10:00', '2020-02-12 12:15:00', '2020-02-12 12:20:00', '2020-02-12 12:25:00', '2020-02-12 12:30:00', '2020-02-12 12:35:00', '2020-02-12 12:40:00', '2020-02-12 12:45:00', '2020-02-12 12:50:00', '2020-02-12 12:55:00', '2020-02-12 13:00:00', '2020-02-12 13:05:00', '2020-02-12 13:10:00', '2020-02-12 13:15:00', '2020-02-12 13:20:00', '2020-02-12 13:25:00', '2020-02-12 13:30:00', '2020-02-12 13:35:00', '2020-02-12 13:40:00', '2020-02-12 13:45:00', '2020-02-12 13:50:00', '2020-02-12 13:55:00', '2020-02-12 14:00:00', '2020-02-12 14:05:00', '2020-02-12 14:10:00', '2020-02-12 14:15:00', '2020-02-12 14:20:00', '2020-02-12 14:25:00', '2020-02-12 14:30:00', '2020-02-12 14:35:00', '2020-02-12 14:40:00', '2020-02-12 14:45:00', '2020-02-12 14:50:00', '2020-02-12 14:55:00', '2020-02-12 15:00:00', '2020-02-12 15:05:00', '2020-02-12 15:10:00', '2020-02-12 15:15:00', '2020-02-12 15:20:00', '2020-02-12 15:25:00', '2020-02-12 15:30:00', '2020-02-13 09:20:00', '2020-02-13 09:25:00', '2020-02-13 09:30:00', '2020-02-13 09:35:00', '2020-02-13 09:40:00', '2020-02-13 09:45:00', '2020-02-13 09:50:00', '2020-02-13 09:55:00', '2020-02-13 10:00:00', '2020-02-13 10:05:00', '2020-02-13 10:10:00', '2020-02-13 10:15:00', '2020-02-13 10:20:00', '2020-02-13 10:25:00', '2020-02-13 10:30:00', '2020-02-13 10:35:00', '2020-02-13 10:40:00', '2020-02-13 10:45:00', '2020-02-13 10:50:00', '2020-02-13 10:55:00', '2020-02-13 11:00:00', '2020-02-13 11:05:00', '2020-02-13 11:10:00', '2020-02-13 11:15:00', '2020-02-13 11:20:00', '2020-02-13 11:25:00', '2020-02-13 11:30:00', '2020-02-13 11:35:00', '2020-02-13 11:40:00', '2020-02-13 11:45:00', '2020-02-13 11:50:00', '2020-02-13 11:55:00', '2020-02-13 12:00:00', '2020-02-13 12:05:00', '2020-02-13 12:10:00', '2020-02-13 12:15:00', '2020-02-13 12:20:00', '2020-02-13 12:25:00', '2020-02-13 12:30:00', '2020-02-13 12:35:00', '2020-02-13 12:40:00', '2020-02-13 12:45:00', '2020-02-13 12:50:00', '2020-02-13 12:55:00', '2020-02-13 13:00:00', '2020-02-13 13:05:00', '2020-02-13 13:10:00', '2020-02-13 13:15:00', '2020-02-13 13:20:00', '2020-02-13 13:25:00', '2020-02-13 13:30:00', '2020-02-13 13:35:00', '2020-02-13 13:40:00', '2020-02-13 13:45:00', '2020-02-13 13:50:00', '2020-02-13 13:55:00', '2020-02-13 14:00:00', '2020-02-13 14:05:00', '2020-02-13 14:10:00', '2020-02-13 14:15:00', '2020-02-13 14:20:00', '2020-02-13 14:25:00', '2020-02-13 14:30:00', '2020-02-13 14:35:00', '2020-02-13 14:40:00', '2020-02-13 14:45:00', '2020-02-13 14:50:00', '2020-02-13 14:55:00', '2020-02-13 15:00:00', '2020-02-13 15:05:00', '2020-02-13 15:10:00', '2020-02-13 15:15:00', '2020-02-13 15:20:00', '2020-02-13 15:25:00', '2020-02-13 15:30:00', '2020-02-14 09:20:00', '2020-02-14 09:25:00', '2020-02-14 09:30:00', '2020-02-14 09:35:00', '2020-02-14 09:40:00', '2020-02-14 09:45:00', '2020-02-14 09:50:00', '2020-02-14 09:55:00', '2020-02-14 10:00:00', '2020-02-14 10:05:00', '2020-02-14 10:10:00', '2020-02-14 10:15:00', '2020-02-14 10:20:00', '2020-02-14 10:25:00', '2020-02-14 10:30:00', '2020-02-14 10:35:00', '2020-02-14 10:40:00', '2020-02-14 10:45:00', '2020-02-14 10:50:00', '2020-02-14 10:55:00', '2020-02-14 11:00:00', '2020-02-14 11:05:00', '2020-02-14 11:10:00', '2020-02-14 11:15:00', '2020-02-14 11:20:00', '2020-02-14 11:25:00', '2020-02-14 11:30:00', '2020-02-14 11:35:00', '2020-02-14 11:40:00', '2020-02-14 11:45:00', '2020-02-14 11:50:00', '2020-02-14 11:55:00', '2020-02-14 12:00:00', '2020-02-14 12:05:00', '2020-02-14 12:10:00', '2020-02-14 12:15:00', '2020-02-14 12:20:00', '2020-02-14 12:25:00', '2020-02-14 12:30:00', '2020-02-14 12:35:00', '2020-02-14 12:40:00', '2020-02-14 12:45:00', '2020-02-14 12:50:00', '2020-02-14 12:55:00', '2020-02-14 13:00:00', '2020-02-14 13:05:00', '2020-02-14 13:10:00', '2020-02-14 13:15:00', '2020-02-14 13:20:00', '2020-02-14 13:25:00', '2020-02-14 13:30:00', '2020-02-14 13:35:00', '2020-02-14 13:40:00', '2020-02-14 13:45:00', '2020-02-14 13:50:00', '2020-02-14 13:55:00', '2020-02-14 14:00:00', '2020-02-14 14:05:00', '2020-02-14 14:10:00', '2020-02-14 14:15:00', '2020-02-14 14:20:00', '2020-02-14 14:25:00', '2020-02-14 14:30:00', '2020-02-14 14:35:00', '2020-02-14 14:40:00', '2020-02-14 14:45:00', '2020-02-14 14:50:00', '2020-02-14 14:55:00', '2020-02-14 15:00:00', '2020-02-14 15:05:00', '2020-02-14 15:10:00', '2020-02-14 15:15:00', '2020-02-14 15:20:00', '2020-02-14 15:25:00', '2020-02-14 15:30:00', '2020-02-17 09:20:00', '2020-02-17 09:25:00', '2020-02-17 09:30:00', '2020-02-17 09:35:00', '2020-02-17 09:40:00', '2020-02-17 09:45:00', '2020-02-17 09:50:00', '2020-02-17 09:55:00', '2020-02-17 10:00:00', '2020-02-17 10:05:00', '2020-02-17 10:10:00', '2020-02-17 10:15:00', '2020-02-17 10:20:00', '2020-02-17 10:25:00', '2020-02-17 10:30:00', '2020-02-17 10:35:00', '2020-02-17 10:40:00', '2020-02-17 10:45:00', '2020-02-17 10:50:00', '2020-02-17 10:55:00', '2020-02-17 11:00:00', '2020-02-17 11:05:00', '2020-02-17 11:10:00', '2020-02-17 11:15:00', '2020-02-17 11:20:00', '2020-02-17 11:25:00', '2020-02-17 11:30:00', '2020-02-17 11:35:00', '2020-02-17 11:40:00', '2020-02-17 11:45:00', '2020-02-17 11:50:00', '2020-02-17 11:55:00', '2020-02-17 12:00:00', '2020-02-17 12:05:00', '2020-02-17 12:10:00', '2020-02-17 12:15:00', '2020-02-17 12:20:00', '2020-02-17 12:25:00', '2020-02-17 12:30:00', '2020-02-17 12:35:00', '2020-02-17 12:40:00', '2020-02-17 12:45:00', '2020-02-17 12:50:00', '2020-02-17 12:55:00', '2020-02-17 13:00:00', '2020-02-17 13:05:00', '2020-02-17 13:10:00', '2020-02-17 13:15:00', '2020-02-17 13:20:00', '2020-02-17 13:25:00', '2020-02-17 13:30:00', '2020-02-17 13:35:00', '2020-02-17 13:40:00', '2020-02-17 13:45:00', '2020-02-17 13:50:00', '2020-02-17 13:55:00', '2020-02-17 14:00:00', '2020-02-17 14:05:00', '2020-02-17 14:10:00', '2020-02-17 14:15:00', '2020-02-17 14:20:00', '2020-02-17 14:25:00', '2020-02-17 14:30:00', '2020-02-17 14:35:00', '2020-02-17 14:40:00', '2020-02-17 14:45:00', '2020-02-17 14:50:00', '2020-02-17 14:55:00', '2020-02-17 15:00:00', '2020-02-17 15:05:00', '2020-02-17 15:10:00', '2020-02-17 15:15:00', '2020-02-17 15:20:00', '2020-02-17 15:25:00', '2020-02-17 15:30:00', '2020-02-18 09:20:00', '2020-02-18 09:25:00', '2020-02-18 09:30:00', '2020-02-18 09:35:00', '2020-02-18 09:40:00', '2020-02-18 09:45:00', '2020-02-18 09:50:00', '2020-02-18 09:55:00', '2020-02-18 10:00:00', '2020-02-18 10:05:00', '2020-02-18 10:10:00', '2020-02-18 10:15:00', '2020-02-18 10:20:00', '2020-02-18 10:25:00', '2020-02-18 10:30:00', '2020-02-18 10:35:00', '2020-02-18 10:40:00', '2020-02-18 10:45:00', '2020-02-18 10:50:00', '2020-02-18 10:55:00', '2020-02-18 11:00:00', '2020-02-18 11:05:00', '2020-02-18 11:10:00', '2020-02-18 11:15:00', '2020-02-18 11:20:00', '2020-02-18 11:25:00', '2020-02-18 11:30:00', '2020-02-18 11:35:00', '2020-02-18 11:40:00', '2020-02-18 11:45:00', '2020-02-18 11:50:00', '2020-02-18 11:55:00', '2020-02-18 12:00:00', '2020-02-18 12:05:00', '2020-02-18 12:10:00', '2020-02-18 12:15:00', '2020-02-18 12:20:00', '2020-02-18 12:25:00', '2020-02-18 12:30:00', '2020-02-18 12:35:00', '2020-02-18 12:40:00', '2020-02-18 12:45:00', '2020-02-18 12:50:00', '2020-02-18 12:55:00', '2020-02-18 13:00:00', '2020-02-18 13:05:00', '2020-02-18 13:10:00', '2020-02-18 13:15:00', '2020-02-18 13:20:00', '2020-02-18 13:25:00', '2020-02-18 13:30:00', '2020-02-18 13:35:00', '2020-02-18 13:40:00', '2020-02-18 13:45:00', '2020-02-18 13:50:00', '2020-02-18 13:55:00', '2020-02-18 14:00:00', '2020-02-18 14:05:00', '2020-02-18 14:10:00', '2020-02-18 14:15:00', '2020-02-18 14:20:00', '2020-02-18 14:25:00', '2020-02-18 14:30:00', '2020-02-18 14:35:00', '2020-02-18 14:40:00', '2020-02-18 14:45:00', '2020-02-18 14:50:00', '2020-02-18 14:55:00', '2020-02-18 15:00:00', '2020-02-18 15:05:00', '2020-02-18 15:10:00', '2020-02-18 15:15:00', '2020-02-18 15:20:00', '2020-02-18 15:25:00', '2020-02-18 15:30:00', '2020-02-19 09:20:00', '2020-02-19 09:25:00', '2020-02-19 09:30:00', '2020-02-19 09:35:00', '2020-02-19 09:40:00', '2020-02-19 09:45:00', '2020-02-19 09:50:00', '2020-02-19 09:55:00', '2020-02-19 10:00:00', '2020-02-19 10:05:00', '2020-02-19 10:10:00', '2020-02-19 10:15:00', '2020-02-19 10:20:00', '2020-02-19 10:25:00', '2020-02-19 10:30:00', '2020-02-19 10:35:00', '2020-02-19 10:40:00', '2020-02-19 10:45:00', '2020-02-19 10:50:00', '2020-02-19 10:55:00', '2020-02-19 11:00:00', '2020-02-19 11:05:00', '2020-02-19 11:10:00', '2020-02-19 11:15:00', '2020-02-19 11:20:00', '2020-02-19 11:25:00', '2020-02-19 11:30:00', '2020-02-19 11:35:00', '2020-02-19 11:40:00', '2020-02-19 11:45:00', '2020-02-19 11:50:00', '2020-02-19 11:55:00', '2020-02-19 12:00:00', '2020-02-19 12:05:00', '2020-02-19 12:10:00', '2020-02-19 12:15:00', '2020-02-19 12:20:00', '2020-02-19 12:25:00', '2020-02-19 12:30:00', '2020-02-19 12:35:00', '2020-02-19 12:40:00', '2020-02-19 12:45:00', '2020-02-19 12:50:00', '2020-02-19 12:55:00', '2020-02-19 13:00:00', '2020-02-19 13:05:00', '2020-02-19 13:10:00', '2020-02-19 13:15:00', '2020-02-19 13:20:00', '2020-02-19 13:25:00', '2020-02-19 13:30:00', '2020-02-19 13:35:00', '2020-02-19 13:40:00', '2020-02-19 13:45:00', '2020-02-19 13:50:00', '2020-02-19 13:55:00', '2020-02-19 14:00:00', '2020-02-19 14:05:00', '2020-02-19 14:10:00', '2020-02-19 14:15:00', '2020-02-19 14:20:00', '2020-02-19 14:25:00', '2020-02-19 14:30:00', '2020-02-19 14:35:00', '2020-02-19 14:40:00', '2020-02-19 14:45:00', '2020-02-19 14:50:00', '2020-02-19 14:55:00', '2020-02-19 15:00:00', '2020-02-19 15:05:00', '2020-02-19 15:10:00', '2020-02-19 15:15:00', '2020-02-19 15:20:00', '2020-02-19 15:25:00', '2020-02-19 15:30:00', '2020-02-20 09:20:00', '2020-02-20 09:25:00', '2020-02-20 09:30:00', '2020-02-20 09:35:00', '2020-02-20 09:40:00', '2020-02-20 09:45:00', '2020-02-20 09:50:00', '2020-02-20 09:55:00', '2020-02-20 10:00:00', '2020-02-20 10:05:00', '2020-02-20 10:10:00', '2020-02-20 10:15:00', '2020-02-20 10:20:00', '2020-02-20 10:25:00', '2020-02-20 10:30:00', '2020-02-20 10:35:00', '2020-02-20 10:40:00', '2020-02-20 10:45:00', '2020-02-20 10:50:00', '2020-02-20 10:55:00', '2020-02-20 11:00:00', '2020-02-20 11:05:00', '2020-02-20 11:10:00', '2020-02-20 11:15:00', '2020-02-20 11:20:00', '2020-02-20 11:25:00', '2020-02-20 11:30:00', '2020-02-20 11:35:00', '2020-02-20 11:40:00', '2020-02-20 11:45:00', '2020-02-20 11:50:00', '2020-02-20 11:55:00', '2020-02-20 12:00:00', '2020-02-20 12:05:00', '2020-02-20 12:10:00', '2020-02-20 12:15:00', '2020-02-20 12:20:00', '2020-02-20 12:25:00', '2020-02-20 12:30:00', '2020-02-20 12:35:00', '2020-02-20 12:40:00', '2020-02-20 12:45:00', '2020-02-20 12:50:00', '2020-02-20 12:55:00', '2020-02-20 13:00:00', '2020-02-20 13:05:00', '2020-02-20 13:10:00', '2020-02-20 13:15:00', '2020-02-20 13:20:00', '2020-02-20 13:25:00', '2020-02-20 13:30:00', '2020-02-20 13:35:00', '2020-02-20 13:40:00', '2020-02-20 13:45:00', '2020-02-20 13:50:00', '2020-02-20 13:55:00', '2020-02-20 14:00:00', '2020-02-20 14:05:00', '2020-02-20 14:10:00', '2020-02-20 14:15:00', '2020-02-20 14:20:00', '2020-02-20 14:25:00', '2020-02-20 14:30:00', '2020-02-20 14:35:00', '2020-02-20 14:40:00', '2020-02-20 14:45:00', '2020-02-20 14:50:00', '2020-02-20 14:55:00', '2020-02-20 15:00:00', '2020-02-20 15:05:00', '2020-02-20 15:10:00', '2020-02-20 15:15:00', '2020-02-20 15:20:00', '2020-02-20 15:25:00', '2020-02-20 15:30:00', '2020-02-24 09:20:00', '2020-02-24 09:25:00', '2020-02-24 09:30:00', '2020-02-24 09:35:00', '2020-02-24 09:40:00', '2020-02-24 09:45:00', '2020-02-24 09:50:00', '2020-02-24 09:55:00', '2020-02-24 10:00:00', '2020-02-24 10:05:00', '2020-02-24 10:10:00', '2020-02-24 10:15:00', '2020-02-24 10:20:00', '2020-02-24 10:25:00', '2020-02-24 10:30:00', '2020-02-24 10:35:00', '2020-02-24 10:40:00', '2020-02-24 10:45:00', '2020-02-24 10:50:00', '2020-02-24 10:55:00', '2020-02-24 11:00:00', '2020-02-24 11:05:00', '2020-02-24 11:10:00', '2020-02-24 11:15:00', '2020-02-24 11:20:00', '2020-02-24 11:25:00', '2020-02-24 11:30:00', '2020-02-24 11:35:00', '2020-02-24 11:40:00', '2020-02-24 11:45:00', '2020-02-24 11:50:00', '2020-02-24 11:55:00', '2020-02-24 12:00:00', '2020-02-24 12:05:00', '2020-02-24 12:10:00', '2020-02-24 12:15:00', '2020-02-24 12:20:00', '2020-02-24 12:25:00', '2020-02-24 12:30:00', '2020-02-24 12:35:00', '2020-02-24 12:40:00', '2020-02-24 12:45:00', '2020-02-24 12:50:00', '2020-02-24 12:55:00', '2020-02-24 13:00:00', '2020-02-24 13:05:00', '2020-02-24 13:10:00', '2020-02-24 13:15:00', '2020-02-24 13:20:00', '2020-02-24 13:25:00', '2020-02-24 13:30:00', '2020-02-24 13:35:00', '2020-02-24 13:40:00', '2020-02-24 13:45:00', '2020-02-24 13:50:00', '2020-02-24 13:55:00', '2020-02-24 14:00:00', '2020-02-24 14:05:00', '2020-02-24 14:10:00', '2020-02-24 14:15:00', '2020-02-24 14:20:00', '2020-02-24 14:25:00', '2020-02-24 14:30:00', '2020-02-24 14:35:00', '2020-02-24 14:40:00', '2020-02-24 14:45:00', '2020-02-24 14:50:00', '2020-02-24 14:55:00', '2020-02-24 15:00:00', '2020-02-24 15:05:00', '2020-02-24 15:10:00', '2020-02-24 15:15:00', '2020-02-24 15:20:00', '2020-02-24 15:25:00', '2020-02-24 15:30:00', '2020-02-25 09:20:00', '2020-02-25 09:25:00', '2020-02-25 09:30:00', '2020-02-25 09:35:00', '2020-02-25 09:40:00', '2020-02-25 09:45:00', '2020-02-25 09:50:00', '2020-02-25 09:55:00', '2020-02-25 10:00:00', '2020-02-25 10:05:00', '2020-02-25 10:10:00', '2020-02-25 10:15:00', '2020-02-25 10:20:00', '2020-02-25 10:25:00', '2020-02-25 10:30:00', '2020-02-25 10:35:00', '2020-02-25 10:40:00', '2020-02-25 10:45:00', '2020-02-25 10:50:00', '2020-02-25 10:55:00', '2020-02-25 11:00:00', '2020-02-25 11:05:00', '2020-02-25 11:10:00', '2020-02-25 11:15:00', '2020-02-25 11:20:00', '2020-02-25 11:25:00', '2020-02-25 11:30:00', '2020-02-25 11:35:00', '2020-02-25 11:40:00', '2020-02-25 11:45:00', '2020-02-25 11:50:00', '2020-02-25 11:55:00', '2020-02-25 12:00:00', '2020-02-25 12:05:00', '2020-02-25 12:10:00', '2020-02-25 12:15:00', '2020-02-25 12:20:00', '2020-02-25 12:25:00', '2020-02-25 12:30:00', '2020-02-25 12:35:00', '2020-02-25 12:40:00', '2020-02-25 12:45:00', '2020-02-25 12:50:00', '2020-02-25 12:55:00', '2020-02-25 13:00:00', '2020-02-25 13:05:00', '2020-02-25 13:10:00', '2020-02-25 13:15:00', '2020-02-25 13:20:00', '2020-02-25 13:25:00', '2020-02-25 13:30:00', '2020-02-25 13:35:00', '2020-02-25 13:40:00', '2020-02-25 13:45:00', '2020-02-25 13:50:00', '2020-02-25 13:55:00', '2020-02-25 14:00:00', '2020-02-25 14:05:00', '2020-02-25 14:10:00', '2020-02-25 14:15:00', '2020-02-25 14:20:00', '2020-02-25 14:25:00', '2020-02-25 14:30:00', '2020-02-25 14:35:00', '2020-02-25 14:40:00', '2020-02-25 14:45:00', '2020-02-25 14:50:00', '2020-02-25 14:55:00', '2020-02-25 15:00:00', '2020-02-25 15:05:00', '2020-02-25 15:10:00', '2020-02-25 15:15:00', '2020-02-25 15:20:00', '2020-02-25 15:25:00', '2020-02-25 15:30:00', '2020-02-26 09:20:00', '2020-02-26 09:25:00', '2020-02-26 09:30:00', '2020-02-26 09:35:00', '2020-02-26 09:40:00', '2020-02-26 09:45:00', '2020-02-26 09:50:00', '2020-02-26 09:55:00', '2020-02-26 10:00:00', '2020-02-26 10:05:00', '2020-02-26 10:10:00', '2020-02-26 10:15:00', '2020-02-26 10:20:00', '2020-02-26 10:25:00', '2020-02-26 10:30:00', '2020-02-26 10:35:00', '2020-02-26 10:40:00', '2020-02-26 10:45:00', '2020-02-26 10:50:00', '2020-02-26 10:55:00', '2020-02-26 11:00:00', '2020-02-26 11:05:00', '2020-02-26 11:10:00', '2020-02-26 11:15:00', '2020-02-26 11:20:00', '2020-02-26 11:25:00', '2020-02-26 11:30:00', '2020-02-26 11:35:00', '2020-02-26 11:40:00', '2020-02-26 11:45:00', '2020-02-26 11:50:00', '2020-02-26 11:55:00', '2020-02-26 12:00:00', '2020-02-26 12:05:00', '2020-02-26 12:10:00', '2020-02-26 12:15:00', '2020-02-26 12:20:00', '2020-02-26 12:25:00', '2020-02-26 12:30:00', '2020-02-26 12:35:00', '2020-02-26 12:40:00', '2020-02-26 12:45:00', '2020-02-26 12:50:00', '2020-02-26 12:55:00', '2020-02-26 13:00:00', '2020-02-26 13:05:00', '2020-02-26 13:10:00', '2020-02-26 13:15:00', '2020-02-26 13:20:00', '2020-02-26 13:25:00', '2020-02-26 13:30:00', '2020-02-26 13:35:00', '2020-02-26 13:40:00', '2020-02-26 13:45:00', '2020-02-26 13:50:00', '2020-02-26 13:55:00', '2020-02-26 14:00:00', '2020-02-26 14:05:00', '2020-02-26 14:10:00', '2020-02-26 14:15:00', '2020-02-26 14:20:00', '2020-02-26 14:25:00', '2020-02-26 14:30:00', '2020-02-26 14:35:00', '2020-02-26 14:40:00', '2020-02-26 14:45:00', '2020-02-26 14:50:00', '2020-02-26 14:55:00', '2020-02-26 15:00:00', '2020-02-26 15:05:00', '2020-02-26 15:10:00', '2020-02-26 15:15:00', '2020-02-26 15:20:00', '2020-02-26 15:25:00', '2020-02-26 15:30:00', '2020-02-27 09:20:00', '2020-02-27 09:25:00', '2020-02-27 09:30:00', '2020-02-27 09:35:00', '2020-02-27 09:40:00', '2020-02-27 09:45:00', '2020-02-27 09:50:00', '2020-02-27 09:55:00', '2020-02-27 10:00:00', '2020-02-27 10:05:00', '2020-02-27 10:10:00', '2020-02-27 10:15:00', '2020-02-27 10:20:00', '2020-02-27 10:25:00', '2020-02-27 10:30:00', '2020-02-27 10:35:00', '2020-02-27 10:40:00', '2020-02-27 10:45:00', '2020-02-27 10:50:00', '2020-02-27 10:55:00', '2020-02-27 11:00:00', '2020-02-27 11:05:00', '2020-02-27 11:10:00', '2020-02-27 11:15:00', '2020-02-27 11:20:00', '2020-02-27 11:25:00', '2020-02-27 11:30:00', '2020-02-27 11:35:00', '2020-02-27 11:40:00', '2020-02-27 11:45:00', '2020-02-27 11:50:00', '2020-02-27 11:55:00', '2020-02-27 12:00:00', '2020-02-27 12:05:00', '2020-02-27 12:10:00', '2020-02-27 12:15:00', '2020-02-27 12:20:00', '2020-02-27 12:25:00', '2020-02-27 12:30:00', '2020-02-27 12:35:00', '2020-02-27 12:40:00', '2020-02-27 12:45:00', '2020-02-27 12:50:00', '2020-02-27 12:55:00', '2020-02-27 13:00:00', '2020-02-27 13:05:00', '2020-02-27 13:10:00', '2020-02-27 13:15:00', '2020-02-27 13:20:00', '2020-02-27 13:25:00', '2020-02-27 13:30:00', '2020-02-27 13:35:00', '2020-02-27 13:40:00', '2020-02-27 13:45:00', '2020-02-27 13:50:00', '2020-02-27 13:55:00', '2020-02-27 14:00:00', '2020-02-27 14:05:00', '2020-02-27 14:10:00', '2020-02-27 14:15:00', '2020-02-27 14:20:00', '2020-02-27 14:25:00', '2020-02-27 14:30:00', '2020-02-27 14:35:00', '2020-02-27 14:40:00', '2020-02-27 14:45:00', '2020-02-27 14:50:00', '2020-02-27 14:55:00', '2020-02-27 15:00:00', '2020-02-27 15:05:00', '2020-02-27 15:10:00', '2020-02-27 15:15:00', '2020-02-27 15:20:00', '2020-02-27 15:25:00', '2020-02-27 15:30:00', '2020-02-28 09:20:00', '2020-02-28 09:25:00', '2020-02-28 09:30:00', '2020-02-28 09:35:00', '2020-02-28 09:40:00', '2020-02-28 09:45:00', '2020-02-28 09:50:00', '2020-02-28 09:55:00', '2020-02-28 10:00:00', '2020-02-28 10:05:00', '2020-02-28 10:10:00', '2020-02-28 10:15:00', '2020-02-28 10:20:00', '2020-02-28 10:25:00', '2020-02-28 10:30:00', '2020-02-28 10:35:00', '2020-02-28 10:40:00', '2020-02-28 10:45:00', '2020-02-28 10:50:00', '2020-02-28 10:55:00', '2020-02-28 11:00:00', '2020-02-28 11:05:00', '2020-02-28 11:10:00', '2020-02-28 11:15:00', '2020-02-28 11:20:00', '2020-02-28 11:25:00', '2020-02-28 11:35:00', '2020-02-28 11:40:00', '2020-02-28 11:45:00', '2020-02-28 11:50:00', '2020-02-28 12:00:00', '2020-02-28 12:05:00', '2020-02-28 12:10:00', '2020-02-28 12:15:00', '2020-02-28 12:20:00', '2020-02-28 12:35:00', '2020-02-28 12:40:00', '2020-02-28 12:45:00', '2020-02-28 12:50:00', '2020-02-28 12:55:00', '2020-02-28 13:05:00', '2020-02-28 13:10:00', '2020-02-28 13:15:00', '2020-02-28 13:20:00', '2020-02-28 13:25:00', '2020-02-28 13:35:00', '2020-02-28 13:45:00', '2020-02-28 13:50:00', '2020-02-28 14:00:00', '2020-02-28 14:05:00', '2020-02-28 14:10:00', '2020-02-28 14:15:00', '2020-02-28 14:25:00', '2020-02-28 14:30:00', '2020-02-28 14:35:00', '2020-02-28 14:40:00', '2020-02-28 14:45:00', '2020-02-28 14:50:00', '2020-02-28 14:55:00', '2020-02-28 15:00:00', '2020-02-28 15:05:00', '2020-02-28 15:10:00', '2020-02-28 15:15:00', '2020-02-28 15:20:00', '2020-02-28 15:25:00', '2020-02-28 15:30:00', '2021-04-01 20:00:00']\n"
          ],
          "name": "stdout"
        }
      ]
    },
    {
      "cell_type": "markdown",
      "metadata": {
        "id": "l7krjHsl157B"
      },
      "source": [
        "# DISCLAIMER\r\n",
        "\r\n",
        "**THIS IS FOR EDUCATIONAL / RESEARCH & DEVELOPMENT PURPOSES ONLY!**\r\n",
        "\r\n",
        "\r\n",
        "The information on this site is provided by YUCE-8 and the author and it is not to be construed as an offer or solicitation for the purchase or sale of any financial instrument or the provision of an offer to provide investment services. Information, opinions and comments contained on this site are not under the scope of investment advisory services. Investment advisory services are given according to the investment advisory contract, signed between the intermediary institutions, portfolio management companies, investment banks and the clients. Opinions and comments contained in this site reflect the personal views of the analysts / AI algorithms who supplied them. The investments discussed or recommended in this report may involve significant risk, may be illiquid and may not be suitable for all investors. Therefore, making decisions with respect to the information in this report may cause inappropriate results and a total loss.\r\n",
        "Futures and forex trading contains substantial risk and is not for every investor. An investor could potentially lose all or more than the initial investment. Risk capital is money that can be lost without jeopardizing ones’ financial security or life style. Only risk capital should be used for trading and only those with sufficient risk capital should consider trading. Past performance is not necessarily indicative of future results\r\n",
        "Hypothetical performance results have many inherent limitations, some of which are described below. no representation is being made that any account will or is likely to achieve profits or losses similar to those shown; in fact, there are frequently sharp differences between hypothetical performance results and the actual results subsequently achieved by any particular trading program. One of the limitations of hypothetical performance results is that they are generally prepared with the benefit of hindsight. In addition, hypothetical trading does not involve financial risk, and no hypothetical trading record can completely account for the impact of financial risk of actual trading. for example, the ability to withstand losses or to adhere to a particular trading program in spite of trading losses are material points which can also adversely affect actual trading results. There are numerous other factors related to the markets in general or to the implementation of any specific trading program which cannot be fully accounted for in the preparation of hypothetical performance results and all which can adversely affect trading results.\r\n",
        "Testimonials appearing on this website may not be representative of other clients or customers and is not a guarantee of future performance or success.\r\n",
        "\r\n",
        "\r\n",
        "\r\n",
        "No Investment Advice & No Reliance\r\n",
        "YUCE-8 IS A DATA ANALYTICS SERVICE. YUCE-8 IS NO BROKER/DEALER, WE ARE NOT AN INVESTMENT ADVISOR, WE HAVE NO ACCESS TO NON-PUBLIC INFORMATION ABOUT PUBLICLY TRADED COMPANIES, AND THIS IS NOT A PLACE FOR THE GIVING OR RECEIVING OF FINANCIAL ADVICE, ADVICE CONCERNING INVESTMENT DECISIONS OR TAX OR LEGAL ADVICE. WE ARE NOT REGULATED BY THE SEC OR ANY FINANCIAL SERVICES AUTHORITY. \r\n",
        "ACCORDINGLY, YUCE-8 WILL NOT BE LIABLE, WHETHER IN CONTRACT, TORT (INCLUDING NEGLIGENCE) OR OTHERWISE, IN RESPECT OF ANY DAMAGE, EXPENSE OR OTHER LOSS YOU MAY SUFFER ARISING OUT OF SUCH INFORMATION OR ANY RELIANCE YOU MAY PLACE UPON SUCH INFORMATION. ANY ARRANGEMENTS BETWEEN YOU AND ANY THIRD PARTY CONTACTED VIA THE WEBSITE ARE AT YOUR SOLE RISK."
      ]
    }
  ]
}