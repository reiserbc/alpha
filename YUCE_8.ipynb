{
  "nbformat": 4,
  "nbformat_minor": 0,
  "metadata": {
    "colab": {
      "name": "YUCE-8.ipynb",
      "provenance": [],
      "collapsed_sections": [],
      "authorship_tag": "ABX9TyNom5mjTtkR1F5RiizTR2Nr",
      "include_colab_link": true
    },
    "kernelspec": {
      "name": "python3",
      "display_name": "Python 3"
    }
  },
  "cells": [
    {
      "cell_type": "markdown",
      "metadata": {
        "id": "view-in-github",
        "colab_type": "text"
      },
      "source": [
        "<a href=\"https://colab.research.google.com/github/yuce-8/alpha/blob/main/YUCE_8.ipynb\" target=\"_parent\"><img src=\"https://colab.research.google.com/assets/colab-badge.svg\" alt=\"Open In Colab\"/></a>"
      ]
    },
    {
      "cell_type": "markdown",
      "metadata": {
        "id": "r3kV6Tf58ofF"
      },
      "source": [
        "# YUCE-8.tech API documentation\r\n",
        "**THIS IS FOR EDUCATIONAL / RESEARCH & DEVELOPMENT PURPOSES ONLY!**\r\n"
      ]
    },
    {
      "cell_type": "code",
      "metadata": {
        "id": "hbI7wo8N9Qp5",
        "colab": {
          "base_uri": "https://localhost:8080/"
        },
        "outputId": "21dc76fc-4ff3-4c4c-91cc-6415c306d1ef"
      },
      "source": [
        "from __future__ import absolute_import, division, print_function, unicode_literals\r\n",
        "!pip install requests\r\n",
        "\r\n",
        "import json\r\n",
        "import requests"
      ],
      "execution_count": 1,
      "outputs": [
        {
          "output_type": "stream",
          "text": [
            "Requirement already satisfied: requests in /usr/local/lib/python3.6/dist-packages (2.23.0)\n",
            "Requirement already satisfied: urllib3!=1.25.0,!=1.25.1,<1.26,>=1.21.1 in /usr/local/lib/python3.6/dist-packages (from requests) (1.24.3)\n",
            "Requirement already satisfied: chardet<4,>=3.0.2 in /usr/local/lib/python3.6/dist-packages (from requests) (3.0.4)\n",
            "Requirement already satisfied: certifi>=2017.4.17 in /usr/local/lib/python3.6/dist-packages (from requests) (2020.12.5)\n",
            "Requirement already satisfied: idna<3,>=2.5 in /usr/local/lib/python3.6/dist-packages (from requests) (2.10)\n"
          ],
          "name": "stdout"
        }
      ]
    },
    {
      "cell_type": "markdown",
      "metadata": {
        "id": "jjhOpiFd81xR"
      },
      "source": [
        "## Connect to YUCE-8\r\n",
        "this is subject to change in the next versions"
      ]
    },
    {
      "cell_type": "code",
      "metadata": {
        "id": "44wqCt9L80Fc",
        "colab": {
          "base_uri": "https://localhost:8080/"
        },
        "outputId": "0b256def-d4fd-4b9e-dbfd-3753b8095f73"
      },
      "source": [
        "class GCF():\r\n",
        "  def __init__(self):\r\n",
        "    #self.url = 'https://us-central1-yuce-8-v1.cloudfunctions.net/yuce_8_alpha_api'\r\n",
        "    self.url = 'https://us-central1-yuce-8-v1.cloudfunctions.net/yuce_8_alpha_2_api'\r\n",
        "    print('YUCE-8 ready @ ', self.url)\r\n",
        "\r\n",
        "  def push(self, json_obj, return_result=False):\r\n",
        "    r = requests.post(self.url, json=json_obj)\r\n",
        "    if return_result:\r\n",
        "      return r\r\n",
        "\r\n",
        "yuce_8 = GCF()"
      ],
      "execution_count": 2,
      "outputs": [
        {
          "output_type": "stream",
          "text": [
            "YUCE-8 ready @  https://us-central1-yuce-8-v1.cloudfunctions.net/yuce_8_alpha_2_api\n"
          ],
          "name": "stdout"
        }
      ]
    },
    {
      "cell_type": "markdown",
      "metadata": {
        "id": "brNoQAZu_Vp6"
      },
      "source": [
        "## Test connection\r\n",
        "the test will return the current backend version"
      ]
    },
    {
      "cell_type": "code",
      "metadata": {
        "colab": {
          "base_uri": "https://localhost:8080/"
        },
        "id": "HqguYI_1_Uro",
        "outputId": "c3161a4c-ec04-4a97-e138-2b60ef39b763"
      },
      "source": [
        "def get_current_backend_version():\r\n",
        "   req = yuce_8.push({'action': 'get_version'}, return_result=True)\r\n",
        "   if req.status_code == 200:\r\n",
        "     return req.json()['msg']\r\n",
        "   else:\r\n",
        "     return ';-( ' + req.json()['msg']\r\n",
        "\r\n",
        "\r\n",
        "print(get_current_backend_version())"
      ],
      "execution_count": 3,
      "outputs": [
        {
          "output_type": "stream",
          "text": [
            "v0.1.3 alpha\n"
          ],
          "name": "stdout"
        }
      ]
    },
    {
      "cell_type": "markdown",
      "metadata": {
        "id": "osZ18Dg-R6TQ"
      },
      "source": [
        "## Create a test key\r\n",
        "Key can be reused for 50 calls"
      ]
    },
    {
      "cell_type": "code",
      "metadata": {
        "id": "rjfOB6V2R5m4",
        "colab": {
          "base_uri": "https://localhost:8080/"
        },
        "outputId": "02223ceb-85af-408f-ad24-2f8affffa397"
      },
      "source": [
        "def create_test_key(your_mail_address):\r\n",
        "   req = yuce_8.push({'action': 'create_test_license', 'user_name': your_mail_address}, return_result=True)\r\n",
        "   if req.status_code == 200:\r\n",
        "     return req.json()['msg']\r\n",
        "   else:\r\n",
        "     return ';-( ' + req.json()['msg']\r\n",
        "\r\n",
        "\r\n",
        "\r\n",
        "key = create_test_key('torsten@yuce-8.info')\r\n",
        "print('our new key = ', key)"
      ],
      "execution_count": 4,
      "outputs": [
        {
          "output_type": "stream",
          "text": [
            "our new key =  a0a669b3-fe56-4014-bcc1-25c4ed3a51d0\n"
          ],
          "name": "stdout"
        }
      ]
    },
    {
      "cell_type": "markdown",
      "metadata": {
        "id": "kJ1RsiLIDXBc"
      },
      "source": [
        "## List all available forecasts"
      ]
    },
    {
      "cell_type": "code",
      "metadata": {
        "id": "CTq7wFtCDcfj",
        "colab": {
          "base_uri": "https://localhost:8080/"
        },
        "outputId": "8611a5ef-4259-4ec8-d3bf-b71cf2ccfc0d"
      },
      "source": [
        "def get_available_forecasts():\r\n",
        "   req = yuce_8.push({'action': 'get_available_forecasts'}, return_result=True)\r\n",
        "   if req.status_code == 200:\r\n",
        "     return req.json()['msg']\r\n",
        "   else:\r\n",
        "     return ';-( ' + req.json()['msg']\r\n",
        "\r\n",
        "get_available_forecasts()"
      ],
      "execution_count": 5,
      "outputs": [
        {
          "output_type": "execute_result",
          "data": {
            "text/plain": [
              "[{'BTC-USD': ['1d'], '^NSEI': ['1d']}]"
            ]
          },
          "metadata": {
            "tags": []
          },
          "execution_count": 5
        }
      ]
    },
    {
      "cell_type": "markdown",
      "metadata": {
        "id": "MfFGD2x6ZMhq"
      },
      "source": [
        "## Get latest forecast"
      ]
    },
    {
      "cell_type": "code",
      "metadata": {
        "colab": {
          "base_uri": "https://localhost:8080/"
        },
        "id": "FJKBKK_PZp1Q",
        "outputId": "aaef9835-8800-4e88-fc11-93e70a16a133"
      },
      "source": [
        "def get_latest_forecast(key, symbol, interval):\r\n",
        "   req = yuce_8.push(\r\n",
        "      {\r\n",
        "        'action': 'get_forecast',\r\n",
        "        'key': key,\r\n",
        "        'symbol': symbol,\r\n",
        "        'interval': interval\r\n",
        "      }, return_result=True)\r\n",
        "   if req.status_code == 200:\r\n",
        "     return req.json()['msg']['f_0']['yuce_8'], req.json()['msg']['api_calls_left_with_this_key'] \r\n",
        "   else:\r\n",
        "     return ';-( ' + req.json()['msg'], -1\r\n",
        "\r\n",
        "# get the forecast:\r\n",
        "f_0, calls_left = get_latest_forecast(key, 'BTC-USD', '1d')\r\n",
        "\r\n",
        "# print out the content:\r\n",
        "if calls_left != -1:\r\n",
        "  print('how many API calls are left?', calls_left)\r\n",
        "  print('when was the forecast created?', f_0['forecast_created_at'])\r\n",
        "  print('what is the last quote that was used to forecast?', f_0['last_quote'], ' @ ', f_0['last_date'])\r\n",
        "  print('what is the name of the magic model that was used to forecast?', f_0['model_name'], 'last trained @', f_0['training_date'])\r\n",
        "  print('what is the forecasted top range?', f_0['quotes_forecast_top'])\r\n",
        "  print('what is the forecasted bottom range?', f_0['quotes_forecast_bottom'])\r\n",
        "\r\n",
        "  # display the forecast timestep per timestep:\r\n",
        "  print('timestep', '0 = ', f_0['last_quote'], ' @ ', f_0['last_date'])\r\n",
        "  quote_0 = f_0['last_quote']\r\n",
        "  top_range = f_0['quotes_forecast_top']\r\n",
        "  bottom_range = f_0['quotes_forecast_bottom']\r\n",
        "\r\n",
        "  for i in range(0, len(top_range)):\r\n",
        "    forecast_top_at_i = top_range[i]\r\n",
        "    forecast_bottom_at_i = bottom_range[i] \r\n",
        "    \r\n",
        "    # see if it is a bearish or bullish forecast\r\n",
        "    bearish = forecast_top_at_i <= quote_0\r\n",
        "\r\n",
        "    print('timestep', i+1, 'should be w/in', ']' if bearish else '[', forecast_bottom_at_i, ', ', forecast_top_at_i, ']' if bearish else '[')\r\n",
        "\r\n",
        "else:\r\n",
        "  print(f_0)"
      ],
      "execution_count": 6,
      "outputs": [
        {
          "output_type": "stream",
          "text": [
            "how many API calls are left? 49\n",
            "when was the forecast created? 2021-02-16 03:02:33.676614+01:00\n",
            "what is the last quote that was used to forecast? 47909.328125  @  2021-02-11 00:00:00\n",
            "what is the name of the magic model that was used to forecast? model typ Y-3 last trained @ 2021-02-14 05:32:05\n",
            "what is the forecasted top range? [48244.693421874996, 48584.8496515625, 48964.24164156246, 48964.24164156246, 48964.24164156246, 49460.748695759525, 49460.748695759525, 50200.70111238333, 50200.70111238333, 50200.70111238333, 50200.70111238333, 50200.70111238333, 50200.70111238333]\n",
            "what is the forecasted bottom range? [47909.328125, 48244.693421874996, 48584.8496515625, 48584.8496515625, 48584.8496515625, 48964.24164156246, 48964.24164156246, 49460.748695759525, 49460.748695759525, 49460.748695759525, 49460.748695759525, 49460.748695759525, 49460.748695759525]\n",
            "timestep 0 =  47909.328125  @  2021-02-11 00:00:00\n",
            "timestep 1 should be w/in [ 47909.328125 ,  48244.693421874996 [\n",
            "timestep 2 should be w/in [ 48244.693421874996 ,  48584.8496515625 [\n",
            "timestep 3 should be w/in [ 48584.8496515625 ,  48964.24164156246 [\n",
            "timestep 4 should be w/in [ 48584.8496515625 ,  48964.24164156246 [\n",
            "timestep 5 should be w/in [ 48584.8496515625 ,  48964.24164156246 [\n",
            "timestep 6 should be w/in [ 48964.24164156246 ,  49460.748695759525 [\n",
            "timestep 7 should be w/in [ 48964.24164156246 ,  49460.748695759525 [\n",
            "timestep 8 should be w/in [ 49460.748695759525 ,  50200.70111238333 [\n",
            "timestep 9 should be w/in [ 49460.748695759525 ,  50200.70111238333 [\n",
            "timestep 10 should be w/in [ 49460.748695759525 ,  50200.70111238333 [\n",
            "timestep 11 should be w/in [ 49460.748695759525 ,  50200.70111238333 [\n",
            "timestep 12 should be w/in [ 49460.748695759525 ,  50200.70111238333 [\n",
            "timestep 13 should be w/in [ 49460.748695759525 ,  50200.70111238333 [\n"
          ],
          "name": "stdout"
        }
      ]
    },
    {
      "cell_type": "markdown",
      "metadata": {
        "id": "m80ka88IWyXV"
      },
      "source": [
        "## Get backtesting statistics"
      ]
    },
    {
      "cell_type": "code",
      "metadata": {
        "colab": {
          "base_uri": "https://localhost:8080/"
        },
        "id": "hVqRZY8Ie21q",
        "outputId": "ad26b3e5-4e2f-400f-ccdd-070a263e0d7a"
      },
      "source": [
        "def get_backtest_statistics(key):\r\n",
        "   req = yuce_8.push(\r\n",
        "      {\r\n",
        "        'action': 'get_backtest_statistics',\r\n",
        "        'key': key\r\n",
        "      }, return_result=True)\r\n",
        "   if req.status_code == 200:\r\n",
        "     return req.json()['msg'], req.json()['msg']['api_calls_left_with_this_key'] \r\n",
        "   else:\r\n",
        "     return ';-( ' + req.json()['msg'], -1\r\n",
        "\r\n",
        "# pull the backtesting results:\r\n",
        "results, calls_left = get_backtest_statistics(key)\r\n",
        "print(calls_left)\r\n",
        "print(results)"
      ],
      "execution_count": 7,
      "outputs": [
        {
          "output_type": "stream",
          "text": [
            "48\n",
            "{'api_calls_left_with_this_key': 48, 'key': 'a0a669b3-fe56-4014-bcc1-25c4ed3a51d0', 'results': [{'confidence intervals 80%': [[1.014734290106172, 1.0263995905090624], [1.0238306195058655, 1.0385423033914734], [1.0321786411122889, 1.051000117508927], [1.0452015914114763, 1.0670036755410384], [1.0606982249386607, 1.0861075383059682], [1.071097395680754, 1.0990137836710527], [1.083293261973727, 1.1153499455763218], [1.0949766321334347, 1.1303003148880497], [1.1090567240883633, 1.1472320427725986], [1.1192049454349562, 1.1577523280483202], [1.1257500213492222, 1.1663229900490932], [1.1395606080639615, 1.1836062391650424], [1.1486298398615309, 1.1950922651647142]], 'confidence intervals 95%': [[1.0116190978809696, 1.0295147827342648], [1.0199018974260872, 1.0424710254712517], [1.0271524081896366, 1.0560263504315792], [1.0393793939002325, 1.0728258730522822], [1.053912724975886, 1.092893038268743], [1.0636423870809266, 1.10646879227088], [1.0747325967464658, 1.123910610803583], [1.0855435221335046, 1.1397334248879798], [1.0988615809077489, 1.157427185953213], [1.1089099173926718, 1.1680473560906046], [1.1149123272725763, 1.1771606841257392], [1.1277946865422368, 1.195372160686767], [1.1362176542127036, 1.2075044508135415]], 'confidence min - max': [[0.8314938545227051, 1.174489974975586], [0.8370778560638428, 1.2697303295135498], [0.7866241931915283, 1.3575416803359985], [0.8260639309883118, 1.4067306518554688], [0.8259402513504028, 1.4388718605041504], [0.8264017105102539, 1.551417350769043], [0.7555761337280273, 1.6587094068527222], [0.7829535603523254, 1.7188109159469604], [0.7933404445648193, 1.7553893327713013], [0.7983273863792419, 1.7265667915344238], [0.7459394931793213, 1.789126992225647], [0.7729677557945251, 1.763232707977295], [0.8038802742958069, 1.8964937925338745]], 'interval': '1d', 'level_1': [0.6222222222222222, 0.6555555555555556, 0.6722222222222223, 0.7, 0.6833333333333333, 0.7055555555555556, 0.7111111111111111, 0.6777777777777778, 0.7, 0.6944444444444444, 0.6833333333333333, 0.6944444444444444, 0.7111111111111111], 'level_2': [0.37777777777777777, 0.34444444444444444, 0.3277777777777778, 0.3, 0.31666666666666665, 0.29444444444444445, 0.28888888888888886, 0.32222222222222224, 0.29444444444444445, 0.29444444444444445, 0.28888888888888886, 0.2722222222222222, 0.25], 'regime class majority #1': 1.0, 'regime class majority #2': 1.0, 'symbol': 'BTC-USD'}]}\n"
          ],
          "name": "stdout"
        }
      ]
    },
    {
      "cell_type": "markdown",
      "metadata": {
        "id": "l7krjHsl157B"
      },
      "source": [
        "# DISCLAIMER\r\n",
        "\r\n",
        "**THIS IS FOR EDUCATIONAL / RESEARCH & DEVELOPMENT PURPOSES ONLY!**\r\n",
        "\r\n",
        "\r\n",
        "The information on this site is provided by YUCE-8 and the author and it is not to be construed as an offer or solicitation for the purchase or sale of any financial instrument or the provision of an offer to provide investment services. Information, opinions and comments contained on this site are not under the scope of investment advisory services. Investment advisory services are given according to the investment advisory contract, signed between the intermediary institutions, portfolio management companies, investment banks and the clients. Opinions and comments contained in this site reflect the personal views of the analysts / AI algorithms who supplied them. The investments discussed or recommended in this report may involve significant risk, may be illiquid and may not be suitable for all investors. Therefore, making decisions with respect to the information in this report may cause inappropriate results and a total loss.\r\n",
        "Futures and forex trading contains substantial risk and is not for every investor. An investor could potentially lose all or more than the initial investment. Risk capital is money that can be lost without jeopardizing ones’ financial security or life style. Only risk capital should be used for trading and only those with sufficient risk capital should consider trading. Past performance is not necessarily indicative of future results\r\n",
        "Hypothetical performance results have many inherent limitations, some of which are described below. no representation is being made that any account will or is likely to achieve profits or losses similar to those shown; in fact, there are frequently sharp differences between hypothetical performance results and the actual results subsequently achieved by any particular trading program. One of the limitations of hypothetical performance results is that they are generally prepared with the benefit of hindsight. In addition, hypothetical trading does not involve financial risk, and no hypothetical trading record can completely account for the impact of financial risk of actual trading. for example, the ability to withstand losses or to adhere to a particular trading program in spite of trading losses are material points which can also adversely affect actual trading results. There are numerous other factors related to the markets in general or to the implementation of any specific trading program which cannot be fully accounted for in the preparation of hypothetical performance results and all which can adversely affect trading results.\r\n",
        "Testimonials appearing on this website may not be representative of other clients or customers and is not a guarantee of future performance or success.\r\n",
        "\r\n",
        "FOR ALL TRADERS, WE BOLDLY IMPLORE THE FOLLOWING:\r\n",
        "\r\n",
        "Always do your own Research\r\n",
        "THIS CONTENT IS INTENDED TO BE USED FOR EDUCATIONAL PURPOSES ONLY.  WE ENCOURAGE ALL TRADERS TO DO THEIR OWN ANALYSIS BEFORE MAKING ANY INVESTMENT CHOICES.\r\n",
        " \r\n",
        "\r\n",
        "Not Investment Advice\r\n",
        "YUCE-8 IS A DATA ANALYTICS PORTAL. YUCE-8 IS NOT A BROKER/DEALER, WE ARE NOT AN INVESTMENT ADVISOR, WE HAVE NO ACCESS TO NON-PUBLIC INFORMATION ABOUT PUBLICLY TRADED COMPANIES, AND THIS IS NOT A PLACE FOR THE GIVING OR RECEIVING OF FINANCIAL ADVICE, ADVICE CONCERNING INVESTMENT DECISIONS OR TAX OR LEGAL ADVICE. WE ARE NOT REGULATED BY THE SEC OR ANY FINANCIAL SERVICES AUTHORITY.\r\n",
        "\r\n",
        " \r\n",
        "No Reliance\r\n",
        "ACCORDINGLY, WE WILL NOT BE LIABLE, WHETHER IN CONTRACT, TORT (INCLUDING NEGLIGENCE) OR OTHERWISE, IN RESPECT OF ANY DAMAGE, EXPENSE OR OTHER LOSS YOU MAY SUFFER ARISING OUT OF SUCH INFORMATION OR ANY RELIANCE YOU MAY PLACE UPON SUCH INFORMATION. ANY ARRANGEMENTS BETWEEN YOU AND ANY THIRD PARTY CONTACTED VIA THE WEBSITE ARE AT YOUR SOLE RISK.\r\n",
        "\r\n",
        "\r\n",
        "\r\n",
        "# Terms and Conditions\r\n",
        "\r\n",
        "ACCESS TO YUCE-8 AND ANY INFORMATION ON THE SITE IS NOT DIRECTED AT ANY PERSON IN ANY JURISDICTION WHERE (BY REASON OF THAT PERSON’S NATIONALITY, RESIDENCE OR OTHERWISE) IT IS PROHIBITED TO ACCESS THE SITE OR DIRECT SUCH INFORMATION FOR ANY REASON. IF YOU ARE A PERSON IN A JURISDICTION IN WHICH SUCH PROHIBITIONS APPLY, YOU MUST NOT ACCESS THIS SITE.\r\n",
        "\r\n",
        "Disclaimer of Warranties\r\n",
        "YUCE-8 & THE SITE IS PROVIDED “AS IS” AND YOUR ACCESS AND USE OF IT IS AT YOUR OWN RISK. TO THE EXTENT PERMITTED BY LAW AND UNLESS OTHERWISE SPECIFICALLY SET OUT IN THIS AGREEMENT, WE MAKE NO WARRANTIES, REPRESENTATIONS OR UNDERTAKINGS IN RESPECT THEREOF AND ALL WARRANTIES REPRESENTATIONS, UNDERTAKINGS, OR OTHER TERMS OF ANY KIND, WHETHER EXPRESS OR IMPLIED BY STATUTE, CUSTOM OR USAGE (INCLUDING WITHOUT LIMITATION, WARRANTIES AS TO SATISFACTORY QUALITY, FITNESS FOR PURPOSE OR SKILL AND CARE) RELATING TO THE SITE AND THE INFORMATION CONTAINED IN OR OMITTED FROM THE SITE ARE EXCLUDED.\r\n",
        "\r\n",
        "WE MAKE NO WARRANTY THAT THE SITE WILL BE ERROR FREE OR UNINTERRUPTED, THAT THE INFORMATION OBTAINED FROM THE SITE WILL BE ACCURATE, COMPLETE, CURRENT, OR RELIABLE, THAT THE QUALITY OF THE SITE WILL BE SATISFACTORY TO YOU, OR THAT ERRORS OR DEFECTS WILL BE CORRECTED\r\n",
        "\r\n",
        "Limitation of Liability\r\n",
        "TO THE FULLEST EXTENT PERMITTED BY LAW, YUCE-8 (AND ITS AFFILIATES, AGENTS OR LICENSORS) EXCLUDES ALL LIABILITY, WHETHER IN CONTRACT, TORT, NEGLIGENCE, MISREPRESENTATION OR OTHERWISE, FOR ANY DIRECT OR INDIRECT LOSS OR DAMAGE CAUSED, DIRECTLY OR INDIRECTLY, BY YOUR USE OF THE SITE OR THE INFORMATION CONTAINED ON THE SITE OR PROVIDED TO YOU PURSUANT TO YOUR USE OF THE SITE.\r\n",
        "\r\n",
        "IN NO CIRCUMSTANCE SHALL YUCE-8 (OR ANY OF ITS AFFILIATES, AGENTS OR LICENSORS) BE LIABLE FOR ANY DIRECT, INDIRECT, INCIDENTAL, SPECIAL OR CONSEQUENTIAL LOSS OR DAMAGES (INCLUDING, WITHOUT LIMITATION, LOSS OF PROFIT, BUSINESS OPPORTUNITY, LOSS OF GOODWILL, ANTICIPATED SAVINGS OR DATA) ARISING FROM: (I) YOUR INABILITY TO USE THE SITE AT ANY TIME OR ANY ERROR IN THE PROVISION OF THE SITE; (II) UNAUTHORIZED ACCESS TO OR ALTERATION OF THE SITE OR ANY INFORMATION OR DATA TRANSMITTED IN RELATION TO THE SITE; (III) ANY ERROR, FAULT, COMPUTER VIRUS OR OTHER COMPUTER OR DATA-CORRUPTING OR DATA-DAMAGING MATERIAL TRANSMITTED THROUGH THE SITE; (IV) THIRD PARTY SERVICES OUTSIDE YUCE-8’S REASONABLE CONTROL (INCLUDING, BUT NOT LIMITED TO, TELEPHONE AND BROWSER SERVICES AND YOUR USE OF EMAIL COMMUNICATIONS TO CONTACT OR INSTRUCT US, AND ANY DELAY IN OUR RECEIPT OR CONFIRMATION OF SUCH A COMMUNICATION, ANY INTERCEPTION OF OR CHANGES TO SUCH A COMMUNICATION AND ANY REASONABLE DELAY IN ACTING ON SUCH A COMMUNICATION), WHETHER SUCH SERVICES ARE USED BY YOU TO ACCESS THE SITE OR OTHERWISE; (V) YOUR USE OF AND/OR RELIANCE ON OTHER WEB SITES TO WHICH YOU HAVE GAINED ACCESS BY MEANS OF HYPERLINKS PUBLISHED ON THE SITE; OR (VI) ANY INACCURATE INFORMATION, MATERIAL OR OPINIONS PUBLISHED ON THE SITE (OR ACCESSED VIA THE SITE) OR YOUR RELIANCE THEREON. FOR THE AVOIDANCE OF DOUBT THIS PROVISION SHALL APPLY WHETHER OR NOT THE RELEVANT LOSS OR DAMAGE ARISES BY REASON OF YUCE-8’S NEGLIGENCE OR IN CONTRACT, TORT, MISREPRESENTATION OR OTHERWISE.\r\n",
        "\r\n",
        "YUCE-8’S LIABILITY IS LIMITED EVEN IF IT HAS BEEN ADVISED OF THE POSSIBILITY OF THE DAMAGES THAT YOU SUFFER OR IF ANY REMEDY YOU HAVE FAILS ITS ESSENTIAL PURPOSE. THIS DISCLAIMER OF LIABILITY APPLIES TO ANY AND ALL DAMAGES OR INJURY, INCLUDING THOSE CAUSED BY ANY FAILURE OF PERFORMANCE, ERROR, OMISSION, INTERRUPTION, DELETION, DEFECT, DELAY IN OPERATION OR TRANSMISSION, COMPUTER VIRUS, COMMUNICATION LINE FAILURE, THEFT, DESTRUCTION OR UNAUTHORIZED ACCESS TO, ALTERATION OF OR USE OF ANY ASSET, WHETHER FOR BREACH OF CONTRACT, TORTIOUS BEHAVIOR, NEGLIGENCE OR UNDER ANY OTHER CAUSE OF ACTION. IF YOU HAVE A DISPUTE WITH US OR ARE DISSATISFIED WITH THE SITE, TERMINATION OF YOUR USE OF THE SITE IS YOUR SOLE REMEDY. WE HAVE NO OTHER OBLIGATION, LIABILITY, OR RESPONSIBILITY TO YOU.\r\n",
        "\r\n",
        "Use Restrictions\r\n",
        "AS A VISITOR TO THE SITE, YOU MAY VIEW THE SITE AND YOU ARE PERMITTED TO PRINT HARD COPIES OF MATERIAL ON IT FOR YOUR PERSONAL, NON-COMMERCIAL USE. ALL OTHER COPYING OR DISTRIBUTION OF ANY PART OF THE SITE WHETHER IN ELECTRONIC, HARD COPY OR OTHER FORMAT IS PROHIBITED. ANY COPIES MUST NOT ALTER THE ORIGINAL CONTENT AND MUST REPRODUCE OUR COPYRIGHT NOTICES.\r\n",
        "\r\n",
        "YOUR USE OF THE SITE IS CONDITIONED ON YOUR FULL COMPLIANCE WITH THIS AGREEMENT INCLUDING, WITHOUT LIMITATION, THE RULES OF CONDUCT SET FORTH IN THIS SECTION AND YOUR FAILURE TO COMPLY WITH SUCH RULES MAY RESULT IN TERMINATION OF YOUR ACCESS TO THE SITE PURSUANT TO THIS AGREEMENT. YOU AGREE THAT WHEN USING THE SITE YOU WILL NOT:\r\n",
        "\r\n",
        "TRANSMIT BY ANY MEANS ANY SOFTWARE, VIRUS, MALWARE, PROGRAM, CODE, FILE, OR OTHER MATERIAL INTENDED TO INTERRUPT, DISRUPT, ALTER, DESTROY, OR LIMIT ANY PART OF THE SITE;\r\n",
        "\r\n",
        "USE ANY ROBOT, SPIDER, SCRIPT, OR ANY MANUAL OR AUTOMATED APPLICATION OR MEANS TO EXTRACT, DOWNLOAD, RETRIEVE, INDEX, MINE, SCRAPE, REPRODUCE, OR CIRCUMVENT THE PRESENTATION, OPERATION, OR INTENDED USE OF ANY FEATURE, FUNCTION, OR PART OF THE SITE;\r\n",
        "\r\n",
        "FRAME OR MIRROR ANY PART OF THE SITE WITHOUT OUR EXPRESS PRIOR WRITTEN CONSENT;\r\n",
        "\r\n",
        "MODIFY, ADAPT, TRANSLATE, REVERSE ENGINEER, DECOMPILE OR DISASSEMBLE ANY PORTION OF THE SITE;\r\n",
        "\r\n",
        "POST OR SUBMIT ANY OFFENSIVE, DEFAMATORY, THREATENING, INDECENT, HATEFUL, RACIST, SEXIST, PORNOGRAPHIC, OR OTHERWISE INAPPROPRIATE OR OBSCENE CONTENT (AS DETERMINED BY US IN OUR SOLE DISCRETION);\r\n",
        "\r\n",
        "COPY, DOWNLOAD, DISTRIBUTE, TRANSMIT, UPLOAD, OR TRANSFER CONTENT FROM THE SITE WITHOUT OUR PRIOR WRITTEN PERMISSION OR AS OTHERWISE PERMITTED UNDER THIS AGREEMENT;\r\n",
        "\r\n",
        "RESELL, SUB-LICENSE, OR LEASE ANY OF THE CONTENT ON THE SITE;\r\n",
        "\r\n",
        "USE THE SITE TO MAKE UNSOLICITED OFFERS, REQUESTS, ADVERTISEMENTS, OR SPAM;\r\n",
        "\r\n",
        "IMPERSONATE OR PRETEND TO BE ANYONE ELSE BUT YOU; FALSELY STATE OR OTHERWISE MISREPRESENT YOUR AFFILIATION WITH ANY PERSON OR ENTITY IN CONNECTION WITH THE SITE; OR EXPRESS OR IMPLY THAT WE ENDORSE ANY STATEMENT YOU MAKE;\r\n",
        "\r\n",
        "REMOVE ANY COPYRIGHT, TRADEMARK OR OTHER PROPRIETARY NOTICE OR LEGEND CONTAINED ON THE SITE;\r\n",
        "\r\n",
        "VIOLATE OR INFRINGE UPON THE PRIVACY, PUBLICITY, INTELLECTUAL PROPERTY, OR OTHER PROPRIETARY RIGHTS OF THIRD PARTIES; OR\r\n",
        "\r\n",
        "ENGAGE IN ANY ACTIVITY THAT IS CRIMINAL OR TORTIOUS IN NATURE, OR OTHERWISE VIOLATES THE LAW OR RIGHTS OF ANOTHER INCLUDING, WITHOUT LIMITATION, HACKING, PHISHING, FRAUD, DEFAMING, ABUSING, HARASSING, OR THREATENING.\r\n",
        "\r\n",
        "IF WE TERMINATE OR SUSPEND YOUR ACCOUNT FOR ANY REASON, YOU ARE PROHIBITED FROM REGISTERING AND CREATING A NEW ACCOUNT UNDER YOUR NAME, A FAKE OR BORROWED NAME, OR THE NAME OF ANY THIRD PARTY, EVEN IF YOU MAY BE ACTING ON BEHALF OF THE THIRD PARTY. IN ADDITION TO TERMINATING OR SUSPENDING YOUR ACCOUNT, WE RESERVE THE RIGHT TO TAKE APPROPRIATE LEGAL ACTION, INCLUDING WITHOUT LIMITATION PURSUING CIVIL, CRIMINAL, AND INJUNCTIVE REDRESS.\r\n",
        "\r\n",
        "\r\n",
        "Changes\r\n",
        "YUCE-8 RESERVES THE RIGHT TO MAKE ANY CHANGES TO THESE TERMS AND CONDITIONS AT ANY TIME AND IT IS YOUR RESPONSIBILITY TO CHECK FOR ANY CHANGES TO THESE TERMS AND CONDITIONS. IF WE CHANGE THIS AGREEMENT, WE WILL UPDATE THE EFFECTIVE DATE LISTED BELOW. YOUR CONTINUED USE OF THE SITE MEANS THAT YOU AGREE WITH THE UPDATED AGREEMENT. IF YOU DO NOT AGREE WITH OUR UPDATED AGREEMENT, YOU MAY NOT USE OUR SITE.\r\n",
        "\r\n",
        "Miscellaneous\r\n",
        "IF A COMPETENT COURT OF LAW OR AUTHORITY FINDS THAT ANY PART OF THESE TERMS AND CONDITIONS IS INVALID, UNLAWFUL OR UNENFORCEABLE TO ANY EXTENT, THE REMAINDER OF THESE TERMS AND CONDITIONS SHALL CONTINUE TO BE VALID AND ENFORCEABLE TO THE FULLEST EXTENT PERMITTED BY UNITED STATES LAW.\r\n",
        "\r\n",
        "THESE TERMS AND CONDITIONS ARE GOVERNED BY THE LAWS OF THE STATE OF NEW YORK AND UNITED STATES LAW. THE COURTS OF NEW YORK SITUATED IN MANHATTAN SHALL HAVE EXCLUSIVE JURISDICTION IN RELATION TO ANY DISPUTE ARISING OUT OF YOUR USE OF THE SITE OR ARISING FROM OR CONNECTED WITH THESE TERMS AND CONDITIONS AND YOU HEREBY SUBMIT TO THE EXCLUSIVE JURISDICTION OF THE COURTS OF NEW YORK. YOU AGREE THAT YOU WILL NOT FILE A CLASS ACTION, OR PARTICIPATE IN A CLASS ACTION AGAINST US.\r\n",
        "\r\n",
        "Investment Solicitation\r\n",
        "THE INFORMATION AND MATERIALS CONTAINED IN THIS WEBSITE ARE PRESENTED FOR INFORMATIONAL PURPOSES ONLY, AND DO NOT CONSTITUTE AN OFFER TO SELL OR A SOLICITATION OF AN OFFER TO BUY INTERESTS IN ANY FUND OR OTHER INVESTMENT. NONE OF SUCH INFORMATION AND MATERIALS SHOULD BE CONSTRUED AS PROVIDING ANY TYPE OF INVESTMENT OR OTHER ADVICE TO YOU, NOR SHOULD YOU CONSIDER IT AS A SOLICITATION, RECOMMENDATION, ENDORSEMENT OR OFFER TO YOU TO BUY OR SELL ANY SECURITY OR OTHER FINANCIAL INSTRUMENT, EFFECT ANY TRANSACTION OR CONCLUDE ANY LEGAL ACT OF ANY KIND WHATSOEVER.\r\n",
        "\r\n",
        "YUCE-8 IS NOT REGISTERED WITH THE US SECURITIES AND EXCHANGE COMMISSION (“SEC”) OR ANY STATE SECURITIES REGULATORY AUTHORITY AS A SECURITIES BROKER, DEALER OR INVESTMENT ADVISOR. WE ARE NOT LICENSED TO GIVE ANY KIND OF INVESTMENT ADVICE. WE DO NOT GIVE INVESTMENT ADVICE IN ANY MANNER. WE DO NOT PROVIDE LEGAL, TAX, ACCOUNTING, OR INVESTMENT ADVICE. SINCE YOUR SITUATION IS UNIQUE, YOU SHOULD ALWAYS CONSULT WITH A QUALIFIED PROFESSIONAL MAKING FINANCIAL DECISIONS."
      ]
    }
  ]
}