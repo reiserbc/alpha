{
  "nbformat": 4,
  "nbformat_minor": 0,
  "metadata": {
    "colab": {
      "name": "YUCE-8.ipynb",
      "provenance": [],
      "collapsed_sections": [],
      "authorship_tag": "ABX9TyPI3SeEyGeMNRXTWapjePpq",
      "include_colab_link": true
    },
    "kernelspec": {
      "name": "python3",
      "display_name": "Python 3"
    }
  },
  "cells": [
    {
      "cell_type": "markdown",
      "metadata": {
        "id": "view-in-github",
        "colab_type": "text"
      },
      "source": [
        "<a href=\"https://colab.research.google.com/github/yuce-8/alpha/blob/main/YUCE_8.ipynb\" target=\"_parent\"><img src=\"https://colab.research.google.com/assets/colab-badge.svg\" alt=\"Open In Colab\"/></a>"
      ]
    },
    {
      "cell_type": "markdown",
      "metadata": {
        "id": "r3kV6Tf58ofF"
      },
      "source": [
        "# YUCE-8.tech API documentation"
      ]
    },
    {
      "cell_type": "code",
      "metadata": {
        "id": "hbI7wo8N9Qp5",
        "colab": {
          "base_uri": "https://localhost:8080/"
        },
        "outputId": "48e15d32-e665-46fe-9c71-183e4cb5333c"
      },
      "source": [
        "from __future__ import absolute_import, division, print_function, unicode_literals\r\n",
        "!pip install requests\r\n",
        "\r\n",
        "import json\r\n",
        "import requests"
      ],
      "execution_count": 3,
      "outputs": [
        {
          "output_type": "stream",
          "text": [
            "Requirement already satisfied: requests in /usr/local/lib/python3.6/dist-packages (2.23.0)\n",
            "Requirement already satisfied: urllib3!=1.25.0,!=1.25.1,<1.26,>=1.21.1 in /usr/local/lib/python3.6/dist-packages (from requests) (1.24.3)\n",
            "Requirement already satisfied: chardet<4,>=3.0.2 in /usr/local/lib/python3.6/dist-packages (from requests) (3.0.4)\n",
            "Requirement already satisfied: certifi>=2017.4.17 in /usr/local/lib/python3.6/dist-packages (from requests) (2020.12.5)\n",
            "Requirement already satisfied: idna<3,>=2.5 in /usr/local/lib/python3.6/dist-packages (from requests) (2.10)\n"
          ],
          "name": "stdout"
        }
      ]
    },
    {
      "cell_type": "markdown",
      "metadata": {
        "id": "jjhOpiFd81xR"
      },
      "source": [
        "## Connect to YUCE-8\r\n",
        "this is subject to change in the next versions"
      ]
    },
    {
      "cell_type": "code",
      "metadata": {
        "id": "44wqCt9L80Fc",
        "colab": {
          "base_uri": "https://localhost:8080/"
        },
        "outputId": "f7e1997d-5edc-4e51-8589-eea86682f69a"
      },
      "source": [
        "class GCF():\r\n",
        "  def __init__(self):\r\n",
        "    #self.url = 'https://us-central1-yuce-8-v1.cloudfunctions.net/yuce_8_alpha_api'\r\n",
        "    self.url = 'https://us-central1-yuce-8-v1.cloudfunctions.net/yuce_8_alpha_2_api'\r\n",
        "    print('YUCE-8 ready @ ', self.url)\r\n",
        "\r\n",
        "  def push(self, json_obj, return_result=False):\r\n",
        "    r = requests.post(self.url, json=json_obj)\r\n",
        "    if return_result:\r\n",
        "      return r\r\n",
        "\r\n",
        "yuce_8 = GCF()"
      ],
      "execution_count": 4,
      "outputs": [
        {
          "output_type": "stream",
          "text": [
            "YUCE-8 ready @  https://us-central1-yuce-8-v1.cloudfunctions.net/yuce_8_alpha_2_api\n"
          ],
          "name": "stdout"
        }
      ]
    },
    {
      "cell_type": "markdown",
      "metadata": {
        "id": "brNoQAZu_Vp6"
      },
      "source": [
        "## Test connection\r\n",
        "the test will return the current backend version"
      ]
    },
    {
      "cell_type": "code",
      "metadata": {
        "colab": {
          "base_uri": "https://localhost:8080/"
        },
        "id": "HqguYI_1_Uro",
        "outputId": "079d54f0-959e-462d-8d79-e02b4619f070"
      },
      "source": [
        "def get_current_backend_version():\r\n",
        "   req = yuce_8.push({'action': 'get_version'}, return_result=True)\r\n",
        "   if req.status_code == 200:\r\n",
        "     return req.json()['msg']\r\n",
        "   else:\r\n",
        "     return ';-( ' + req.json()['msg']\r\n",
        "\r\n",
        "\r\n",
        "print(get_current_backend_version())"
      ],
      "execution_count": 5,
      "outputs": [
        {
          "output_type": "stream",
          "text": [
            "v0.1.2 alpha\n"
          ],
          "name": "stdout"
        }
      ]
    },
    {
      "cell_type": "markdown",
      "metadata": {
        "id": "osZ18Dg-R6TQ"
      },
      "source": [
        "## Create a test key\r\n",
        "Key can be reused for 50 calls"
      ]
    },
    {
      "cell_type": "code",
      "metadata": {
        "id": "rjfOB6V2R5m4",
        "colab": {
          "base_uri": "https://localhost:8080/"
        },
        "outputId": "8816a5bb-4bb0-4d5f-ebd3-b8af33265366"
      },
      "source": [
        "def create_test_key(your_mail_address):\r\n",
        "   req = yuce_8.push({'action': 'create_test_license', 'user_name': your_mail_address}, return_result=True)\r\n",
        "   if req.status_code == 200:\r\n",
        "     return req.json()['msg']\r\n",
        "   else:\r\n",
        "     return ';-( ' + req.json()['msg']\r\n",
        "\r\n",
        "\r\n",
        "\r\n",
        "key = create_test_key('torsten@yuce-8.info')\r\n",
        "print('our new key = ', key)"
      ],
      "execution_count": 6,
      "outputs": [
        {
          "output_type": "stream",
          "text": [
            "our new key =  47902e26-1a51-4d5f-8e1e-2388f627ed57\n"
          ],
          "name": "stdout"
        }
      ]
    },
    {
      "cell_type": "markdown",
      "metadata": {
        "id": "kJ1RsiLIDXBc"
      },
      "source": [
        "## List all available forecasts"
      ]
    },
    {
      "cell_type": "code",
      "metadata": {
        "id": "CTq7wFtCDcfj",
        "colab": {
          "base_uri": "https://localhost:8080/"
        },
        "outputId": "fb19911e-5b04-41ae-f565-b4062a7ace44"
      },
      "source": [
        "def get_available_forecasts():\r\n",
        "   req = yuce_8.push({'action': 'get_available_forecasts'}, return_result=True)\r\n",
        "   if req.status_code == 200:\r\n",
        "     return req.json()['msg']\r\n",
        "   else:\r\n",
        "     return ';-( ' + req.json()['msg']\r\n",
        "\r\n",
        "get_available_forecasts()"
      ],
      "execution_count": null,
      "outputs": [
        {
          "output_type": "execute_result",
          "data": {
            "text/plain": [
              "[{'BTC-USD': ['1d', '4hour']}]"
            ]
          },
          "metadata": {
            "tags": []
          },
          "execution_count": 13
        }
      ]
    },
    {
      "cell_type": "markdown",
      "metadata": {
        "id": "MfFGD2x6ZMhq"
      },
      "source": [
        "## Get latest forecast"
      ]
    },
    {
      "cell_type": "code",
      "metadata": {
        "colab": {
          "base_uri": "https://localhost:8080/"
        },
        "id": "FJKBKK_PZp1Q",
        "outputId": "6dcd4403-7c3f-444a-a3d7-d4dbe526c95a"
      },
      "source": [
        "def get_latest_forecast(key, symbol, interval):\r\n",
        "   req = yuce_8.push(\r\n",
        "      {\r\n",
        "        'action': 'get_forecast',\r\n",
        "        'key': key,\r\n",
        "        'symbol': symbol,\r\n",
        "        'interval': interval\r\n",
        "      }, return_result=True)\r\n",
        "   if req.status_code == 200:\r\n",
        "     return req.json()['msg']['f_0']['yuce_8'], req.json()['msg']['api_calls_left_with_this_key'] \r\n",
        "   else:\r\n",
        "     return ';-( ' + req.json()['msg'], -1\r\n",
        "\r\n",
        "# get the forecast:\r\n",
        "f_0, calls_left = get_latest_forecast(key, 'BTC-USD', '1d')\r\n",
        "\r\n",
        "# print out the content:\r\n",
        "if calls_left != -1:\r\n",
        "  print('how many API calls are left?', calls_left)\r\n",
        "  print('when was the forecast created?', f_0['forecast_created_at'])\r\n",
        "  print('what is the last quote that was used to forecast?', f_0['last_quote'], ' @ ', f_0['last_date'])\r\n",
        "  print('what is the name of the magic model that was used to forecast?', f_0['model_name'], 'last trained @', f_0['training_date'])\r\n",
        "  print('what is the forecasted top range?', f_0['quotes_forecast_top'])\r\n",
        "  print('what is the forecasted bottom range?', f_0['quotes_forecast_bottom'])\r\n",
        "\r\n",
        "  # display the forecast timestep per timestep:\r\n",
        "  print('timestep', '0 = ', f_0['last_quote'], ' @ ', f_0['last_date'])\r\n",
        "  quote_0 = f_0['last_quote']\r\n",
        "  top_range = f_0['quotes_forecast_top']\r\n",
        "  bottom_range = f_0['quotes_forecast_bottom']\r\n",
        "\r\n",
        "  for i in range(0, len(top_range)):\r\n",
        "    forecast_top_at_i = top_range[i]\r\n",
        "    forecast_bottom_at_i = bottom_range[i] \r\n",
        "    \r\n",
        "    # see if it is a bearish or bullish forecast\r\n",
        "    bearish = forecast_top_at_i <= quote_0\r\n",
        "\r\n",
        "    print('timestep', i+1, 'should be w/in', ']' if bearish else '[', forecast_bottom_at_i, ', ', forecast_top_at_i, ']' if bearish else '[')\r\n",
        "\r\n",
        "else:\r\n",
        "  print(f_0)"
      ],
      "execution_count": 15,
      "outputs": [
        {
          "output_type": "stream",
          "text": [
            "how many API calls are left? 46\n",
            "when was the forecast created? 2021-02-05 22:03:24.514608+01:00\n",
            "what is the last quote that was used to forecast? 37472.08984375  @  2021-02-03 00:00:00\n",
            "what is the name of the magic model that was used to forecast? model typ Y-2 last trained @ 2021-02-04 22:27:05\n",
            "what is the forecasted top range? [37734.39447265625, 37734.39447265625, 37734.39447265625, 37734.39447265625, 37734.39447265625, 37734.39447265625, 37734.39447265625, 37734.39447265625, 37734.39447265625, 37734.39447265625, 37734.39447265625, 37734.39447265625, 37734.39447265625]\n",
            "what is the forecasted bottom range? [37472.08984375, 37472.08984375, 37472.08984375, 37472.08984375, 37472.08984375, 37472.08984375, 37472.08984375, 37472.08984375, 37472.08984375, 37472.08984375, 37472.08984375, 37472.08984375, 37472.08984375]\n",
            "timestep 0 =  37472.08984375  @  2021-02-03 00:00:00\n",
            "timestep 1 should be w/in [ 37472.08984375 ,  37734.39447265625 [\n",
            "timestep 2 should be w/in [ 37472.08984375 ,  37734.39447265625 [\n",
            "timestep 3 should be w/in [ 37472.08984375 ,  37734.39447265625 [\n",
            "timestep 4 should be w/in [ 37472.08984375 ,  37734.39447265625 [\n",
            "timestep 5 should be w/in [ 37472.08984375 ,  37734.39447265625 [\n",
            "timestep 6 should be w/in [ 37472.08984375 ,  37734.39447265625 [\n",
            "timestep 7 should be w/in [ 37472.08984375 ,  37734.39447265625 [\n",
            "timestep 8 should be w/in [ 37472.08984375 ,  37734.39447265625 [\n",
            "timestep 9 should be w/in [ 37472.08984375 ,  37734.39447265625 [\n",
            "timestep 10 should be w/in [ 37472.08984375 ,  37734.39447265625 [\n",
            "timestep 11 should be w/in [ 37472.08984375 ,  37734.39447265625 [\n",
            "timestep 12 should be w/in [ 37472.08984375 ,  37734.39447265625 [\n",
            "timestep 13 should be w/in [ 37472.08984375 ,  37734.39447265625 [\n"
          ],
          "name": "stdout"
        }
      ]
    },
    {
      "cell_type": "markdown",
      "metadata": {
        "id": "m80ka88IWyXV"
      },
      "source": [
        "## Backtesting the results\r\n",
        "\r\n",
        "to be done"
      ]
    }
  ]
}