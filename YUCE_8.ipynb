{
  "nbformat": 4,
  "nbformat_minor": 0,
  "metadata": {
    "colab": {
      "name": "YUCE-8.ipynb",
      "provenance": [],
      "collapsed_sections": [],
      "authorship_tag": "ABX9TyMD0EyzxT1/5lLUWK0lxAk2",
      "include_colab_link": true
    },
    "kernelspec": {
      "name": "python3",
      "display_name": "Python 3"
    }
  },
  "cells": [
    {
      "cell_type": "markdown",
      "metadata": {
        "id": "view-in-github",
        "colab_type": "text"
      },
      "source": [
        "<a href=\"https://colab.research.google.com/github/yuce-8/alpha/blob/main/YUCE_8.ipynb\" target=\"_parent\"><img src=\"https://colab.research.google.com/assets/colab-badge.svg\" alt=\"Open In Colab\"/></a>"
      ]
    },
    {
      "cell_type": "markdown",
      "metadata": {
        "id": "r3kV6Tf58ofF"
      },
      "source": [
        "# YUCE-8.tech API documentation\r\n",
        "**THIS IS FOR EDUCATIONAL / RESEARCH & DEVELOPMENT PURPOSES ONLY!**\r\n"
      ]
    },
    {
      "cell_type": "code",
      "metadata": {
        "id": "hbI7wo8N9Qp5",
        "colab": {
          "base_uri": "https://localhost:8080/"
        },
        "outputId": "b06af791-4b86-489e-b669-45a682125468"
      },
      "source": [
        "from __future__ import absolute_import, division, print_function, unicode_literals\r\n",
        "!pip install requests\r\n",
        "\r\n",
        "import json\r\n",
        "import requests"
      ],
      "execution_count": 1,
      "outputs": [
        {
          "output_type": "stream",
          "text": [
            "Requirement already satisfied: requests in /usr/local/lib/python3.6/dist-packages (2.23.0)\n",
            "Requirement already satisfied: idna<3,>=2.5 in /usr/local/lib/python3.6/dist-packages (from requests) (2.10)\n",
            "Requirement already satisfied: certifi>=2017.4.17 in /usr/local/lib/python3.6/dist-packages (from requests) (2020.12.5)\n",
            "Requirement already satisfied: chardet<4,>=3.0.2 in /usr/local/lib/python3.6/dist-packages (from requests) (3.0.4)\n",
            "Requirement already satisfied: urllib3!=1.25.0,!=1.25.1,<1.26,>=1.21.1 in /usr/local/lib/python3.6/dist-packages (from requests) (1.24.3)\n"
          ],
          "name": "stdout"
        }
      ]
    },
    {
      "cell_type": "markdown",
      "metadata": {
        "id": "jjhOpiFd81xR"
      },
      "source": [
        "## Connect to YUCE-8\r\n",
        "this is subject to change in the next versions"
      ]
    },
    {
      "cell_type": "code",
      "metadata": {
        "id": "44wqCt9L80Fc",
        "colab": {
          "base_uri": "https://localhost:8080/"
        },
        "outputId": "a459e9df-264b-4c08-b628-ba83625f18e3"
      },
      "source": [
        "class GCF():\r\n",
        "  def __init__(self):\r\n",
        "    #self.url = 'https://us-central1-yuce-8-v1.cloudfunctions.net/yuce_8_alpha_api'\r\n",
        "    self.url = 'https://us-central1-yuce-8-v1.cloudfunctions.net/yuce_8_alpha_2_api'\r\n",
        "    print('YUCE-8 ready @ ', self.url)\r\n",
        "\r\n",
        "  def push(self, json_obj, return_result=False):\r\n",
        "    r = requests.post(self.url, json=json_obj)\r\n",
        "    if return_result:\r\n",
        "      return r\r\n",
        "\r\n",
        "yuce_8 = GCF()"
      ],
      "execution_count": 2,
      "outputs": [
        {
          "output_type": "stream",
          "text": [
            "YUCE-8 ready @  https://us-central1-yuce-8-v1.cloudfunctions.net/yuce_8_alpha_2_api\n"
          ],
          "name": "stdout"
        }
      ]
    },
    {
      "cell_type": "markdown",
      "metadata": {
        "id": "brNoQAZu_Vp6"
      },
      "source": [
        "## Test connection\r\n",
        "the test will return the current backend version"
      ]
    },
    {
      "cell_type": "code",
      "metadata": {
        "colab": {
          "base_uri": "https://localhost:8080/"
        },
        "id": "HqguYI_1_Uro",
        "outputId": "5e6dc82e-2140-448d-e889-ac872922c321"
      },
      "source": [
        "def get_current_backend_version():\r\n",
        "   req = yuce_8.push({'action': 'get_version'}, return_result=True)\r\n",
        "   if req.status_code == 200:\r\n",
        "     return req.json()['msg']\r\n",
        "   else:\r\n",
        "     return ';-( ' + req.json()['msg']\r\n",
        "\r\n",
        "\r\n",
        "print(get_current_backend_version())"
      ],
      "execution_count": 3,
      "outputs": [
        {
          "output_type": "stream",
          "text": [
            "v0.1.3 alpha\n"
          ],
          "name": "stdout"
        }
      ]
    },
    {
      "cell_type": "markdown",
      "metadata": {
        "id": "osZ18Dg-R6TQ"
      },
      "source": [
        "## Create a test key\r\n",
        "Key can be reused for 50 calls"
      ]
    },
    {
      "cell_type": "code",
      "metadata": {
        "id": "rjfOB6V2R5m4",
        "colab": {
          "base_uri": "https://localhost:8080/"
        },
        "outputId": "0f72dd84-c361-4447-c7eb-cb8c9407a6fc"
      },
      "source": [
        "def create_test_key(your_mail_address):\r\n",
        "   req = yuce_8.push({'action': 'create_test_license', 'user_name': your_mail_address}, return_result=True)\r\n",
        "   if req.status_code == 200:\r\n",
        "     return req.json()['msg']\r\n",
        "   else:\r\n",
        "     return ';-( ' + req.json()['msg']\r\n",
        "\r\n",
        "\r\n",
        "\r\n",
        "key = create_test_key('torsten@yuce-8.info')\r\n",
        "print('our new key = ', key)"
      ],
      "execution_count": 4,
      "outputs": [
        {
          "output_type": "stream",
          "text": [
            "our new key =  a0ec44a0-47de-4de0-a012-2c141134c331\n"
          ],
          "name": "stdout"
        }
      ]
    },
    {
      "cell_type": "markdown",
      "metadata": {
        "id": "kJ1RsiLIDXBc"
      },
      "source": [
        "## List all available forecasts"
      ]
    },
    {
      "cell_type": "code",
      "metadata": {
        "id": "CTq7wFtCDcfj",
        "colab": {
          "base_uri": "https://localhost:8080/"
        },
        "outputId": "0b3fee31-e58b-4dad-b6d0-e61f487d3dca"
      },
      "source": [
        "def get_available_forecasts():\r\n",
        "   req = yuce_8.push({'action': 'get_available_forecasts'}, return_result=True)\r\n",
        "   if req.status_code == 200:\r\n",
        "     return req.json()['msg']\r\n",
        "   else:\r\n",
        "     return ';-( ' + req.json()['msg']\r\n",
        "\r\n",
        "get_available_forecasts()"
      ],
      "execution_count": 5,
      "outputs": [
        {
          "output_type": "execute_result",
          "data": {
            "text/plain": [
              "[{'BTC-USD': ['1d'], '^NSEI': ['1d']}]"
            ]
          },
          "metadata": {
            "tags": []
          },
          "execution_count": 5
        }
      ]
    },
    {
      "cell_type": "markdown",
      "metadata": {
        "id": "MfFGD2x6ZMhq"
      },
      "source": [
        "## Get latest forecast"
      ]
    },
    {
      "cell_type": "code",
      "metadata": {
        "colab": {
          "base_uri": "https://localhost:8080/"
        },
        "id": "FJKBKK_PZp1Q",
        "outputId": "aed8186a-8975-48e5-bdf6-b75d6620cd04"
      },
      "source": [
        "def get_latest_forecast(key, symbol, interval):\r\n",
        "   req = yuce_8.push(\r\n",
        "      {\r\n",
        "        'action': 'get_forecast',\r\n",
        "        'key': key,\r\n",
        "        'symbol': symbol,\r\n",
        "        'interval': interval\r\n",
        "      }, return_result=True)\r\n",
        "   if req.status_code == 200:\r\n",
        "     return req.json()['msg']['f_0']['yuce_8'], req.json()['msg']['api_calls_left_with_this_key'] \r\n",
        "   else:\r\n",
        "     return ';-( ' + req.json()['msg'], -1\r\n",
        "\r\n",
        "# get the forecast:\r\n",
        "f_0, calls_left = get_latest_forecast(key, 'BTC-USD', '1d')\r\n",
        "\r\n",
        "# print out the content:\r\n",
        "if calls_left != -1:\r\n",
        "  print('how many API calls are left?', calls_left)\r\n",
        "  print('when was the forecast created?', f_0['forecast_created_at'])\r\n",
        "  print('what is the last quote that was used to forecast?', f_0['last_quote'], ' @ ', f_0['last_date'])\r\n",
        "  print('what is the name of the magic model that was used to forecast?', f_0['model_name'], 'last trained @', f_0['training_date'])\r\n",
        "  print('what is the forecasted top range?', f_0['quotes_forecast_top'])\r\n",
        "  print('what is the forecasted bottom range?', f_0['quotes_forecast_bottom'])\r\n",
        "\r\n",
        "  # display the forecast timestep per timestep:\r\n",
        "  print('timestep', '0 = ', f_0['last_quote'], ' @ ', f_0['last_date'])\r\n",
        "  quote_0 = f_0['last_quote']\r\n",
        "  top_range = f_0['quotes_forecast_top']\r\n",
        "  bottom_range = f_0['quotes_forecast_bottom']\r\n",
        "\r\n",
        "  for i in range(0, len(top_range)):\r\n",
        "    forecast_top_at_i = top_range[i]\r\n",
        "    forecast_bottom_at_i = bottom_range[i] \r\n",
        "    \r\n",
        "    # see if it is a bearish or bullish forecast\r\n",
        "    bearish = forecast_top_at_i <= quote_0\r\n",
        "\r\n",
        "    print('timestep', i+1, 'should be w/in', ']' if bearish else '[', forecast_bottom_at_i, ', ', forecast_top_at_i, ']' if bearish else '[')\r\n",
        "\r\n",
        "else:\r\n",
        "  print(f_0)"
      ],
      "execution_count": 6,
      "outputs": [
        {
          "output_type": "stream",
          "text": [
            "how many API calls are left? 49\n",
            "when was the forecast created? 2021-02-18 03:04:56.214622+01:00\n",
            "what is the last quote that was used to forecast? 47504.8515625  @  2021-02-12 00:00:00\n",
            "what is the name of the magic model that was used to forecast? model typ Y-3 last trained @ 2021-02-16 22:21:19\n",
            "what is the forecasted top range? [48550.858926344124, 49776.87953492249, 49043.1741983894, 49043.1741983894, 49776.87953492249, 50928.711655411156, 50928.711655411156, 50928.711655411156, 49776.87953492249, 50928.711655411156, 49776.87953492249, 49776.87953492249, 50928.711655411156]\n",
            "what is the forecasted bottom range? [48174.66996953125, 49043.1741983894, 48550.858926344124, 48550.858926344124, 49043.1741983894, 49776.87953492249, 49776.87953492249, 49776.87953492249, 49043.1741983894, 49776.87953492249, 49043.1741983894, 49043.1741983894, 49776.87953492249]\n",
            "timestep 0 =  47504.8515625  @  2021-02-12 00:00:00\n",
            "timestep 1 should be w/in [ 48174.66996953125 ,  48550.858926344124 [\n",
            "timestep 2 should be w/in [ 49043.1741983894 ,  49776.87953492249 [\n",
            "timestep 3 should be w/in [ 48550.858926344124 ,  49043.1741983894 [\n",
            "timestep 4 should be w/in [ 48550.858926344124 ,  49043.1741983894 [\n",
            "timestep 5 should be w/in [ 49043.1741983894 ,  49776.87953492249 [\n",
            "timestep 6 should be w/in [ 49776.87953492249 ,  50928.711655411156 [\n",
            "timestep 7 should be w/in [ 49776.87953492249 ,  50928.711655411156 [\n",
            "timestep 8 should be w/in [ 49776.87953492249 ,  50928.711655411156 [\n",
            "timestep 9 should be w/in [ 49043.1741983894 ,  49776.87953492249 [\n",
            "timestep 10 should be w/in [ 49776.87953492249 ,  50928.711655411156 [\n",
            "timestep 11 should be w/in [ 49043.1741983894 ,  49776.87953492249 [\n",
            "timestep 12 should be w/in [ 49043.1741983894 ,  49776.87953492249 [\n",
            "timestep 13 should be w/in [ 49776.87953492249 ,  50928.711655411156 [\n"
          ],
          "name": "stdout"
        }
      ]
    },
    {
      "cell_type": "markdown",
      "metadata": {
        "id": "m80ka88IWyXV"
      },
      "source": [
        "## Get backtesting statistics"
      ]
    },
    {
      "cell_type": "code",
      "metadata": {
        "colab": {
          "base_uri": "https://localhost:8080/"
        },
        "id": "hVqRZY8Ie21q",
        "outputId": "11279396-b16a-4d2c-f53d-7ea21c340dcf"
      },
      "source": [
        "def get_backtest_statistics(key):\r\n",
        "   req = yuce_8.push(\r\n",
        "      {\r\n",
        "        'action': 'get_backtest_statistics',\r\n",
        "        'key': key\r\n",
        "      }, return_result=True)\r\n",
        "   if req.status_code == 200:\r\n",
        "     return req.json()['msg'], req.json()['msg']['api_calls_left_with_this_key'] \r\n",
        "   else:\r\n",
        "     return ';-( ' + req.json()['msg'], -1\r\n",
        "\r\n",
        "# pull the backtesting results:\r\n",
        "results, calls_left = get_backtest_statistics(key)\r\n",
        "print(calls_left)\r\n",
        "print(results)"
      ],
      "execution_count": 7,
      "outputs": [
        {
          "output_type": "stream",
          "text": [
            "48\n",
            "{'api_calls_left_with_this_key': 48, 'key': 'a0ec44a0-47de-4de0-a012-2c141134c331', 'results': [{'confidence intervals 80%': [[1.0033615744792204, 1.0064157330311556], [1.0053238357284355, 1.009229472758503], [1.00728974014607, 1.0119124922147698], [1.0094844844004836, 1.0147424195149217], [1.0119669266223599, 1.0177509955883335], [1.0146650395115748, 1.0207930484095677], [1.0175062529228736, 1.0238500722266626], [1.0204227812434319, 1.0269116513584968], [1.0233353220738581, 1.029925242730219], [1.026177260821007, 1.0328277612279433], [1.0291350001883262, 1.0358259563851602], [1.0321719835756977, 1.0388874818326275], [1.0348144277370117, 1.0416130319797852]], 'confidence intervals 95%': [[1.002545968309904, 1.007231339200472], [1.0042808441473947, 1.0102724643395438], [1.0060552446074995, 1.0131469877533403], [1.008080364658736, 1.0161465392566693], [1.0104223040193816, 1.0192956181913118], [1.0130285685236295, 1.022429519397513], [1.015812150251642, 1.0255441748978942], [1.0186899430794192, 1.0286444895225095], [1.0215754985901602, 1.031685066213917], [1.0244012596512246, 1.0346037623977256], [1.027348195390879, 1.0376127611826074], [1.0303786248763227, 1.0406808405320025], [1.0329988757711086, 1.0434285839456883]], 'confidence min - max': [[0.9650542736053467, 1.0510629415512085], [0.9402891397476196, 1.061052918434143], [0.9392087459564209, 1.0882817506790161], [0.9344943761825562, 1.1052215099334717], [0.9310262203216553, 1.114353060722351], [0.9378352165222168, 1.1130956411361694], [0.9445369839668274, 1.1232799291610718], [0.9341582655906677, 1.126081943511963], [0.9361304640769958, 1.1331722736358643], [0.9362204074859619, 1.1403450965881348], [0.9413071870803833, 1.1422498226165771], [0.9503284096717834, 1.1494801044464111], [0.937375545501709, 1.1523475646972656]], 'interval': '1d', 'level_1': [0.6222222222222222, 0.46111111111111114, 0.6555555555555556, 0.6611111111111111, 0.6833333333333333, 0.7166666666666667, 0.7333333333333333, 0.7555555555555555, 0.7611111111111111, 0.8055555555555556, 0.8277777777777777, 0.85, 0.8611111111111112], 'level_2': [0.37777777777777777, 0.5388888888888889, 0.34444444444444444, 0.3388888888888889, 0.31666666666666665, 0.2833333333333333, 0.26666666666666666, 0.24444444444444444, 0.2388888888888889, 0.19444444444444445, 0.17222222222222222, 0.15, 0.1388888888888889], 'regime class majority #1': 1.0, 'regime class majority #2': 1.0, 'symbol': '^NSEI'}, {'confidence intervals 80%': [[1.014734290106172, 1.0263995905090624], [1.0238306195058655, 1.0385423033914734], [1.0321786411122889, 1.051000117508927], [1.0452015914114763, 1.0670036755410384], [1.0606982249386607, 1.0861075383059682], [1.071097395680754, 1.0990137836710527], [1.083293261973727, 1.1153499455763218], [1.0949766321334347, 1.1303003148880497], [1.1090567240883633, 1.1472320427725986], [1.1192049454349562, 1.1577523280483202], [1.1257500213492222, 1.1663229900490932], [1.1395606080639615, 1.1836062391650424], [1.1486298398615309, 1.1950922651647142]], 'confidence intervals 95%': [[1.0116190978809696, 1.0295147827342648], [1.0199018974260872, 1.0424710254712517], [1.0271524081896366, 1.0560263504315792], [1.0393793939002325, 1.0728258730522822], [1.053912724975886, 1.092893038268743], [1.0636423870809266, 1.10646879227088], [1.0747325967464658, 1.123910610803583], [1.0855435221335046, 1.1397334248879798], [1.0988615809077489, 1.157427185953213], [1.1089099173926718, 1.1680473560906046], [1.1149123272725763, 1.1771606841257392], [1.1277946865422368, 1.195372160686767], [1.1362176542127036, 1.2075044508135415]], 'confidence min - max': [[0.8314938545227051, 1.174489974975586], [0.8370778560638428, 1.2697303295135498], [0.7866241931915283, 1.3575416803359985], [0.8260639309883118, 1.4067306518554688], [0.8259402513504028, 1.4388718605041504], [0.8264017105102539, 1.551417350769043], [0.7555761337280273, 1.6587094068527222], [0.7829535603523254, 1.7188109159469604], [0.7933404445648193, 1.7553893327713013], [0.7983273863792419, 1.7265667915344238], [0.7459394931793213, 1.789126992225647], [0.7729677557945251, 1.763232707977295], [0.8038802742958069, 1.8964937925338745]], 'interval': '1d', 'level_1': [0.5, 0.6, 0.6055555555555555, 0.5722222222222222, 0.6388888888888888, 0.65, 0.6444444444444445, 0.6777777777777778, 0.6388888888888888, 0.6444444444444445, 0.6777777777777778, 0.6833333333333333, 0.7], 'level_2': [0.5, 0.4, 0.39444444444444443, 0.42777777777777776, 0.3611111111111111, 0.35, 0.35555555555555557, 0.32222222222222224, 0.35555555555555557, 0.34444444444444444, 0.29444444444444445, 0.2833333333333333, 0.2611111111111111], 'regime class majority #1': 1.0, 'regime class majority #2': 1.0, 'symbol': 'BTC-USD'}]}\n"
          ],
          "name": "stdout"
        }
      ]
    },
    {
      "cell_type": "markdown",
      "metadata": {
        "id": "l7krjHsl157B"
      },
      "source": [
        "# DISCLAIMER\r\n",
        "\r\n",
        "**THIS IS FOR EDUCATIONAL / RESEARCH & DEVELOPMENT PURPOSES ONLY!**\r\n",
        "\r\n",
        "\r\n",
        "The information on this site is provided by YUCE-8 and the author and it is not to be construed as an offer or solicitation for the purchase or sale of any financial instrument or the provision of an offer to provide investment services. Information, opinions and comments contained on this site are not under the scope of investment advisory services. Investment advisory services are given according to the investment advisory contract, signed between the intermediary institutions, portfolio management companies, investment banks and the clients. Opinions and comments contained in this site reflect the personal views of the analysts / AI algorithms who supplied them. The investments discussed or recommended in this report may involve significant risk, may be illiquid and may not be suitable for all investors. Therefore, making decisions with respect to the information in this report may cause inappropriate results and a total loss.\r\n",
        "Futures and forex trading contains substantial risk and is not for every investor. An investor could potentially lose all or more than the initial investment. Risk capital is money that can be lost without jeopardizing ones’ financial security or life style. Only risk capital should be used for trading and only those with sufficient risk capital should consider trading. Past performance is not necessarily indicative of future results\r\n",
        "Hypothetical performance results have many inherent limitations, some of which are described below. no representation is being made that any account will or is likely to achieve profits or losses similar to those shown; in fact, there are frequently sharp differences between hypothetical performance results and the actual results subsequently achieved by any particular trading program. One of the limitations of hypothetical performance results is that they are generally prepared with the benefit of hindsight. In addition, hypothetical trading does not involve financial risk, and no hypothetical trading record can completely account for the impact of financial risk of actual trading. for example, the ability to withstand losses or to adhere to a particular trading program in spite of trading losses are material points which can also adversely affect actual trading results. There are numerous other factors related to the markets in general or to the implementation of any specific trading program which cannot be fully accounted for in the preparation of hypothetical performance results and all which can adversely affect trading results.\r\n",
        "Testimonials appearing on this website may not be representative of other clients or customers and is not a guarantee of future performance or success.\r\n",
        "\r\n",
        "\r\n",
        "\r\n",
        "No Investment Advice & No Reliance\r\n",
        "YUCE-8 IS A DATA ANALYTICS SERVICE. YUCE-8 IS NO BROKER/DEALER, WE ARE NOT AN INVESTMENT ADVISOR, WE HAVE NO ACCESS TO NON-PUBLIC INFORMATION ABOUT PUBLICLY TRADED COMPANIES, AND THIS IS NOT A PLACE FOR THE GIVING OR RECEIVING OF FINANCIAL ADVICE, ADVICE CONCERNING INVESTMENT DECISIONS OR TAX OR LEGAL ADVICE. WE ARE NOT REGULATED BY THE SEC OR ANY FINANCIAL SERVICES AUTHORITY. \r\n",
        "ACCORDINGLY, YUCE-8 WILL NOT BE LIABLE, WHETHER IN CONTRACT, TORT (INCLUDING NEGLIGENCE) OR OTHERWISE, IN RESPECT OF ANY DAMAGE, EXPENSE OR OTHER LOSS YOU MAY SUFFER ARISING OUT OF SUCH INFORMATION OR ANY RELIANCE YOU MAY PLACE UPON SUCH INFORMATION. ANY ARRANGEMENTS BETWEEN YOU AND ANY THIRD PARTY CONTACTED VIA THE WEBSITE ARE AT YOUR SOLE RISK."
      ]
    }
  ]
}