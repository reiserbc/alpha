{
  "nbformat": 4,
  "nbformat_minor": 0,
  "metadata": {
    "colab": {
      "name": "YUCE-8.ipynb",
      "provenance": [],
      "collapsed_sections": [],
      "authorship_tag": "ABX9TyPlTGnSCHQGpmeOqBsBcDty",
      "include_colab_link": true
    },
    "kernelspec": {
      "name": "python3",
      "display_name": "Python 3"
    }
  },
  "cells": [
    {
      "cell_type": "markdown",
      "metadata": {
        "id": "view-in-github",
        "colab_type": "text"
      },
      "source": [
        "<a href=\"https://colab.research.google.com/github/yuce-8/alpha/blob/main/YUCE_8.ipynb\" target=\"_parent\"><img src=\"https://colab.research.google.com/assets/colab-badge.svg\" alt=\"Open In Colab\"/></a>"
      ]
    },
    {
      "cell_type": "markdown",
      "metadata": {
        "id": "r3kV6Tf58ofF"
      },
      "source": [
        "# YUCE-8.tech API documentation"
      ]
    },
    {
      "cell_type": "code",
      "metadata": {
        "colab": {
          "base_uri": "https://localhost:8080/"
        },
        "id": "hbI7wo8N9Qp5",
        "outputId": "30a0e724-0627-4f22-d3d8-e3d819365dcd"
      },
      "source": [
        "from __future__ import absolute_import, division, print_function, unicode_literals\r\n",
        "!pip install requests\r\n",
        "\r\n",
        "import json\r\n",
        "import requests"
      ],
      "execution_count": 1,
      "outputs": [
        {
          "output_type": "stream",
          "text": [
            "Requirement already satisfied: requests in /usr/local/lib/python3.6/dist-packages (2.23.0)\n",
            "Requirement already satisfied: urllib3!=1.25.0,!=1.25.1,<1.26,>=1.21.1 in /usr/local/lib/python3.6/dist-packages (from requests) (1.24.3)\n",
            "Requirement already satisfied: chardet<4,>=3.0.2 in /usr/local/lib/python3.6/dist-packages (from requests) (3.0.4)\n",
            "Requirement already satisfied: certifi>=2017.4.17 in /usr/local/lib/python3.6/dist-packages (from requests) (2020.12.5)\n",
            "Requirement already satisfied: idna<3,>=2.5 in /usr/local/lib/python3.6/dist-packages (from requests) (2.10)\n"
          ],
          "name": "stdout"
        }
      ]
    },
    {
      "cell_type": "markdown",
      "metadata": {
        "id": "jjhOpiFd81xR"
      },
      "source": [
        "## Connect to YUCE-8\r\n",
        "this is subject to change in the next versions"
      ]
    },
    {
      "cell_type": "code",
      "metadata": {
        "id": "44wqCt9L80Fc"
      },
      "source": [
        "class GCF():\r\n",
        "  def __init__(self):\r\n",
        "    self.url = '<put in here>'\r\n",
        "    print('YUCE-8 ready @ ', self.url)\r\n",
        "\r\n",
        "  def push(self, json_obj, return_result=False):\r\n",
        "    r = requests.post(self.url, json=json_obj)\r\n",
        "    if return_result:\r\n",
        "      return r\r\n",
        "\r\n",
        "yuce_8 = GCF()"
      ],
      "execution_count": null,
      "outputs": []
    },
    {
      "cell_type": "markdown",
      "metadata": {
        "id": "brNoQAZu_Vp6"
      },
      "source": [
        "## Test connection\r\n",
        "the test will return the current backend version"
      ]
    },
    {
      "cell_type": "code",
      "metadata": {
        "colab": {
          "base_uri": "https://localhost:8080/"
        },
        "id": "HqguYI_1_Uro",
        "outputId": "415948bf-6083-4567-c1f5-9986e7bc9735"
      },
      "source": [
        "def get_current_backend_version():\r\n",
        "   req = yuce_8.push({'action': 'get_version'}, return_result=True)\r\n",
        "   if req.status_code == 200:\r\n",
        "     return req.json()['msg']\r\n",
        "   else:\r\n",
        "     return ';-( ' + req.json()['msg']\r\n",
        "\r\n",
        "\r\n",
        "print(get_current_backend_version())"
      ],
      "execution_count": 3,
      "outputs": [
        {
          "output_type": "stream",
          "text": [
            "v0.1.1 alpha\n"
          ],
          "name": "stdout"
        }
      ]
    },
    {
      "cell_type": "markdown",
      "metadata": {
        "id": "kJ1RsiLIDXBc"
      },
      "source": [
        "## List all available forecasts"
      ]
    },
    {
      "cell_type": "code",
      "metadata": {
        "id": "CTq7wFtCDcfj",
        "colab": {
          "base_uri": "https://localhost:8080/"
        },
        "outputId": "c9ba2065-f009-42f2-affc-44bf3391f0a9"
      },
      "source": [
        "def get_available_forecasts():\r\n",
        "   req = yuce_8.push({'action': 'get_available_forecasts'}, return_result=True)\r\n",
        "   if req.status_code == 200:\r\n",
        "     return req.json()['msg']\r\n",
        "   else:\r\n",
        "     return ';-( ' + req.json()['msg']\r\n",
        "\r\n",
        "print(get_available_forecasts())"
      ],
      "execution_count": 4,
      "outputs": [
        {
          "output_type": "stream",
          "text": [
            "[{'BTC-USD': ['1d']}]\n"
          ],
          "name": "stdout"
        }
      ]
    },
    {
      "cell_type": "markdown",
      "metadata": {
        "id": "MfFGD2x6ZMhq"
      },
      "source": [
        "## Get latest forecast"
      ]
    },
    {
      "cell_type": "code",
      "metadata": {
        "colab": {
          "base_uri": "https://localhost:8080/"
        },
        "id": "FJKBKK_PZp1Q",
        "outputId": "d5b79669-daa7-44f1-9671-ab0e04a01e6b"
      },
      "source": [
        "def get_latest_forecast(symbol, interval):\r\n",
        "   req = yuce_8.push(\r\n",
        "      {\r\n",
        "        'action': 'get_forecast',\r\n",
        "        'symbol': symbol,\r\n",
        "        'interval': interval\r\n",
        "      }, return_result=True)\r\n",
        "   if req.status_code == 200:\r\n",
        "     return req.json()['msg']['yuce_8']\r\n",
        "   else:\r\n",
        "     return ';-( ' + req.json()['msg']\r\n",
        "\r\n",
        "# get the forecast:\r\n",
        "f_0 = get_latest_forecast('BTC-USD', '1d')\r\n",
        "\r\n",
        "# print out the content:\r\n",
        "print('when was the forecast created?', f_0['forecast_created_at'])\r\n",
        "print('what is the last quote that was used to forecast?', f_0['last_quote'], ' @ ', f_0['last_date'])\r\n",
        "print('what is the name of the magic model that was used to forecast?', f_0['model_name'], 'last trained @', f_0['training_date'])\r\n",
        "print('what is the forecasted top range?', f_0['quotes_forecast_top'])\r\n",
        "print('what is the forecasted bottom range?', f_0['quotes_forecast_bottom'])\r\n",
        "\r\n",
        "# display the forecast timestep per timestep:\r\n",
        "print('timestep', '0 = ', f_0['last_quote'], ' @ ', f_0['last_date'])\r\n",
        "quote_0 = f_0['last_quote']\r\n",
        "top_range = f_0['quotes_forecast_top']\r\n",
        "bottom_range = f_0['quotes_forecast_bottom']\r\n",
        "\r\n",
        "for i in range(0, len(top_range)):\r\n",
        "  forecast_top_at_i = top_range[i]\r\n",
        "  forecast_bottom_at_i = bottom_range[i] \r\n",
        "  \r\n",
        "  # see if it is a bearish or bullish forecast\r\n",
        "  bearish = forecast_top_at_i <= quote_0\r\n",
        "\r\n",
        "  print('timestep', i+1, 'should be w/in', ']' if bearish else '[', forecast_bottom_at_i, ', ', forecast_top_at_i, ']' if bearish else '[')\r\n"
      ],
      "execution_count": 6,
      "outputs": [
        {
          "output_type": "stream",
          "text": [
            "when was the forecast created? 2021-02-02 11:48:48.986973+01:00\n",
            "what is the last quote that was used to forecast? 33157.5  @  2021-02-01 22:00:00\n",
            "what is the name of the magic model that was used to forecast? Model 2 last trained @ 2021-02-02 10:40:54\n",
            "what is the forecasted top range? [33240.393749999996, 33240.393749999996, 33240.393749999996, 33240.393749999996, 33240.393749999996, 33240.393749999996, 33240.393749999996, 33240.393749999996, 33240.393749999996, 33240.393749999996, 33240.393749999996, 33240.393749999996, 33240.393749999996]\n",
            "what is the forecasted bottom range? [33157.5, 33157.5, 33157.5, 33157.5, 33157.5, 33157.5, 33157.5, 33157.5, 33157.5, 33157.5, 33157.5, 33157.5, 33157.5]\n",
            "timestep 0 =  33157.5  @  2021-02-01 22:00:00\n",
            "timestep 1 should be w/in [ 33157.5 ,  33240.393749999996 [\n",
            "timestep 2 should be w/in [ 33157.5 ,  33240.393749999996 [\n",
            "timestep 3 should be w/in [ 33157.5 ,  33240.393749999996 [\n",
            "timestep 4 should be w/in [ 33157.5 ,  33240.393749999996 [\n",
            "timestep 5 should be w/in [ 33157.5 ,  33240.393749999996 [\n",
            "timestep 6 should be w/in [ 33157.5 ,  33240.393749999996 [\n",
            "timestep 7 should be w/in [ 33157.5 ,  33240.393749999996 [\n",
            "timestep 8 should be w/in [ 33157.5 ,  33240.393749999996 [\n",
            "timestep 9 should be w/in [ 33157.5 ,  33240.393749999996 [\n",
            "timestep 10 should be w/in [ 33157.5 ,  33240.393749999996 [\n",
            "timestep 11 should be w/in [ 33157.5 ,  33240.393749999996 [\n",
            "timestep 12 should be w/in [ 33157.5 ,  33240.393749999996 [\n",
            "timestep 13 should be w/in [ 33157.5 ,  33240.393749999996 [\n"
          ],
          "name": "stdout"
        }
      ]
    },
    {
      "cell_type": "markdown",
      "metadata": {
        "id": "m80ka88IWyXV"
      },
      "source": [
        "## Backtesting the results\r\n",
        "\r\n",
        "to be done"
      ]
    }
  ]
}