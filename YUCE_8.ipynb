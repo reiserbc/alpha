{
  "nbformat": 4,
  "nbformat_minor": 0,
  "metadata": {
    "colab": {
      "name": "YUCE-8.ipynb",
      "provenance": [],
      "collapsed_sections": [],
      "authorship_tag": "ABX9TyNom5mjTtkR1F5RiizTR2Nr",
      "include_colab_link": true
    },
    "kernelspec": {
      "name": "python3",
      "display_name": "Python 3"
    }
  },
  "cells": [
    {
      "cell_type": "markdown",
      "metadata": {
        "id": "view-in-github",
        "colab_type": "text"
      },
      "source": [
        "<a href=\"https://colab.research.google.com/github/yuce-8/alpha/blob/main/YUCE_8.ipynb\" target=\"_parent\"><img src=\"https://colab.research.google.com/assets/colab-badge.svg\" alt=\"Open In Colab\"/></a>"
      ]
    },
    {
      "cell_type": "markdown",
      "metadata": {
        "id": "r3kV6Tf58ofF"
      },
      "source": [
        "# YUCE-8.tech API documentation\r\n",
        "**THIS IS FOR EDUCATIONAL / RESEARCH & DEVELOPMENT PURPOSES ONLY!**\r\n"
      ]
    },
    {
      "cell_type": "code",
      "metadata": {
        "id": "hbI7wo8N9Qp5",
        "colab": {
          "base_uri": "https://localhost:8080/"
        },
        "outputId": "d22b53fd-9a61-4691-a34d-1d22dc786e6d"
      },
      "source": [
        "from __future__ import absolute_import, division, print_function, unicode_literals\r\n",
        "!pip install requests\r\n",
        "\r\n",
        "import json\r\n",
        "import requests"
      ],
      "execution_count": null,
      "outputs": [
        {
          "output_type": "stream",
          "text": [
            "Requirement already satisfied: requests in /usr/local/lib/python3.6/dist-packages (2.23.0)\n",
            "Requirement already satisfied: urllib3!=1.25.0,!=1.25.1,<1.26,>=1.21.1 in /usr/local/lib/python3.6/dist-packages (from requests) (1.24.3)\n",
            "Requirement already satisfied: certifi>=2017.4.17 in /usr/local/lib/python3.6/dist-packages (from requests) (2020.12.5)\n",
            "Requirement already satisfied: idna<3,>=2.5 in /usr/local/lib/python3.6/dist-packages (from requests) (2.10)\n",
            "Requirement already satisfied: chardet<4,>=3.0.2 in /usr/local/lib/python3.6/dist-packages (from requests) (3.0.4)\n"
          ],
          "name": "stdout"
        }
      ]
    },
    {
      "cell_type": "markdown",
      "metadata": {
        "id": "jjhOpiFd81xR"
      },
      "source": [
        "## Connect to YUCE-8\r\n",
        "this is subject to change in the next versions"
      ]
    },
    {
      "cell_type": "code",
      "metadata": {
        "id": "44wqCt9L80Fc",
        "colab": {
          "base_uri": "https://localhost:8080/"
        },
        "outputId": "661f5944-001c-4569-a39f-6e56e2649b56"
      },
      "source": [
        "class GCF():\r\n",
        "  def __init__(self):\r\n",
        "    #self.url = 'https://us-central1-yuce-8-v1.cloudfunctions.net/yuce_8_alpha_api'\r\n",
        "    self.url = 'https://us-central1-yuce-8-v1.cloudfunctions.net/yuce_8_alpha_2_api'\r\n",
        "    print('YUCE-8 ready @ ', self.url)\r\n",
        "\r\n",
        "  def push(self, json_obj, return_result=False):\r\n",
        "    r = requests.post(self.url, json=json_obj)\r\n",
        "    if return_result:\r\n",
        "      return r\r\n",
        "\r\n",
        "yuce_8 = GCF()"
      ],
      "execution_count": null,
      "outputs": [
        {
          "output_type": "stream",
          "text": [
            "YUCE-8 ready @  https://us-central1-yuce-8-v1.cloudfunctions.net/yuce_8_alpha_2_api\n"
          ],
          "name": "stdout"
        }
      ]
    },
    {
      "cell_type": "markdown",
      "metadata": {
        "id": "brNoQAZu_Vp6"
      },
      "source": [
        "## Test connection\r\n",
        "the test will return the current backend version"
      ]
    },
    {
      "cell_type": "code",
      "metadata": {
        "colab": {
          "base_uri": "https://localhost:8080/"
        },
        "id": "HqguYI_1_Uro",
        "outputId": "d2ff6109-7945-4567-ce7c-a6140fb0c124"
      },
      "source": [
        "def get_current_backend_version():\r\n",
        "   req = yuce_8.push({'action': 'get_version'}, return_result=True)\r\n",
        "   if req.status_code == 200:\r\n",
        "     return req.json()['msg']\r\n",
        "   else:\r\n",
        "     return ';-( ' + req.json()['msg']\r\n",
        "\r\n",
        "\r\n",
        "print(get_current_backend_version())"
      ],
      "execution_count": null,
      "outputs": [
        {
          "output_type": "stream",
          "text": [
            "v0.1.2 alpha\n"
          ],
          "name": "stdout"
        }
      ]
    },
    {
      "cell_type": "markdown",
      "metadata": {
        "id": "osZ18Dg-R6TQ"
      },
      "source": [
        "## Create a test key\r\n",
        "Key can be reused for 50 calls"
      ]
    },
    {
      "cell_type": "code",
      "metadata": {
        "id": "rjfOB6V2R5m4",
        "colab": {
          "base_uri": "https://localhost:8080/"
        },
        "outputId": "4a304e10-1000-4ce5-f06a-cf25369ed403"
      },
      "source": [
        "def create_test_key(your_mail_address):\r\n",
        "   req = yuce_8.push({'action': 'create_test_license', 'user_name': your_mail_address}, return_result=True)\r\n",
        "   if req.status_code == 200:\r\n",
        "     return req.json()['msg']\r\n",
        "   else:\r\n",
        "     return ';-( ' + req.json()['msg']\r\n",
        "\r\n",
        "\r\n",
        "\r\n",
        "key = create_test_key('torsten@yuce-8.info')\r\n",
        "print('our new key = ', key)"
      ],
      "execution_count": null,
      "outputs": [
        {
          "output_type": "stream",
          "text": [
            "our new key =  1c6ebe25-8adb-4f1a-8f5e-e3b1f173482a\n"
          ],
          "name": "stdout"
        }
      ]
    },
    {
      "cell_type": "markdown",
      "metadata": {
        "id": "kJ1RsiLIDXBc"
      },
      "source": [
        "## List all available forecasts"
      ]
    },
    {
      "cell_type": "code",
      "metadata": {
        "id": "CTq7wFtCDcfj",
        "colab": {
          "base_uri": "https://localhost:8080/"
        },
        "outputId": "0fae8520-f950-4984-a59e-6cbb7cd1bff4"
      },
      "source": [
        "def get_available_forecasts():\r\n",
        "   req = yuce_8.push({'action': 'get_available_forecasts'}, return_result=True)\r\n",
        "   if req.status_code == 200:\r\n",
        "     return req.json()['msg']\r\n",
        "   else:\r\n",
        "     return ';-( ' + req.json()['msg']\r\n",
        "\r\n",
        "get_available_forecasts()"
      ],
      "execution_count": null,
      "outputs": [
        {
          "output_type": "execute_result",
          "data": {
            "text/plain": [
              "[{'BTC-USD': ['1d'], '^BVSP': ['1d'], '^NSEBANK': ['1d'], '^NSEI': ['1d']}]"
            ]
          },
          "metadata": {
            "tags": []
          },
          "execution_count": 5
        }
      ]
    },
    {
      "cell_type": "markdown",
      "metadata": {
        "id": "MfFGD2x6ZMhq"
      },
      "source": [
        "## Get latest forecast"
      ]
    },
    {
      "cell_type": "code",
      "metadata": {
        "colab": {
          "base_uri": "https://localhost:8080/"
        },
        "id": "FJKBKK_PZp1Q",
        "outputId": "4d40a4fd-97cf-4055-dc21-1d472c5d4a56"
      },
      "source": [
        "def get_latest_forecast(key, symbol, interval):\r\n",
        "   req = yuce_8.push(\r\n",
        "      {\r\n",
        "        'action': 'get_forecast',\r\n",
        "        'key': key,\r\n",
        "        'symbol': symbol,\r\n",
        "        'interval': interval\r\n",
        "      }, return_result=True)\r\n",
        "   if req.status_code == 200:\r\n",
        "     return req.json()['msg']['f_0']['yuce_8'], req.json()['msg']['api_calls_left_with_this_key'] \r\n",
        "   else:\r\n",
        "     return ';-( ' + req.json()['msg'], -1\r\n",
        "\r\n",
        "# get the forecast:\r\n",
        "f_0, calls_left = get_latest_forecast(key, 'BTC-USD', '1d')\r\n",
        "\r\n",
        "# print out the content:\r\n",
        "if calls_left != -1:\r\n",
        "  print('how many API calls are left?', calls_left)\r\n",
        "  print('when was the forecast created?', f_0['forecast_created_at'])\r\n",
        "  print('what is the last quote that was used to forecast?', f_0['last_quote'], ' @ ', f_0['last_date'])\r\n",
        "  print('what is the name of the magic model that was used to forecast?', f_0['model_name'], 'last trained @', f_0['training_date'])\r\n",
        "  print('what is the forecasted top range?', f_0['quotes_forecast_top'])\r\n",
        "  print('what is the forecasted bottom range?', f_0['quotes_forecast_bottom'])\r\n",
        "\r\n",
        "  # display the forecast timestep per timestep:\r\n",
        "  print('timestep', '0 = ', f_0['last_quote'], ' @ ', f_0['last_date'])\r\n",
        "  quote_0 = f_0['last_quote']\r\n",
        "  top_range = f_0['quotes_forecast_top']\r\n",
        "  bottom_range = f_0['quotes_forecast_bottom']\r\n",
        "\r\n",
        "  for i in range(0, len(top_range)):\r\n",
        "    forecast_top_at_i = top_range[i]\r\n",
        "    forecast_bottom_at_i = bottom_range[i] \r\n",
        "    \r\n",
        "    # see if it is a bearish or bullish forecast\r\n",
        "    bearish = forecast_top_at_i <= quote_0\r\n",
        "\r\n",
        "    print('timestep', i+1, 'should be w/in', ']' if bearish else '[', forecast_bottom_at_i, ', ', forecast_top_at_i, ']' if bearish else '[')\r\n",
        "\r\n",
        "else:\r\n",
        "  print(f_0)"
      ],
      "execution_count": null,
      "outputs": [
        {
          "output_type": "stream",
          "text": [
            "how many API calls are left? 49\n",
            "when was the forecast created? 2021-02-14 23:47:52.009517+01:00\n",
            "what is the last quote that was used to forecast? 47909.328125  @  2021-02-11 00:00:00\n",
            "what is the name of the magic model that was used to forecast? model typ Y-3 last trained @ 2021-02-14 05:32:05\n",
            "what is the forecasted top range? [48244.693421874996, 48584.8496515625, 48964.24164156246, 48964.24164156246, 48964.24164156246, 49460.748695759525, 49460.748695759525, 50200.70111238333, 50200.70111238333, 50200.70111238333, 50200.70111238333, 50200.70111238333, 50200.70111238333]\n",
            "what is the forecasted bottom range? [47909.328125, 48244.693421874996, 48584.8496515625, 48584.8496515625, 48584.8496515625, 48964.24164156246, 48964.24164156246, 49460.748695759525, 49460.748695759525, 49460.748695759525, 49460.748695759525, 49460.748695759525, 49460.748695759525]\n",
            "timestep 0 =  47909.328125  @  2021-02-11 00:00:00\n",
            "timestep 1 should be w/in [ 47909.328125 ,  48244.693421874996 [\n",
            "timestep 2 should be w/in [ 48244.693421874996 ,  48584.8496515625 [\n",
            "timestep 3 should be w/in [ 48584.8496515625 ,  48964.24164156246 [\n",
            "timestep 4 should be w/in [ 48584.8496515625 ,  48964.24164156246 [\n",
            "timestep 5 should be w/in [ 48584.8496515625 ,  48964.24164156246 [\n",
            "timestep 6 should be w/in [ 48964.24164156246 ,  49460.748695759525 [\n",
            "timestep 7 should be w/in [ 48964.24164156246 ,  49460.748695759525 [\n",
            "timestep 8 should be w/in [ 49460.748695759525 ,  50200.70111238333 [\n",
            "timestep 9 should be w/in [ 49460.748695759525 ,  50200.70111238333 [\n",
            "timestep 10 should be w/in [ 49460.748695759525 ,  50200.70111238333 [\n",
            "timestep 11 should be w/in [ 49460.748695759525 ,  50200.70111238333 [\n",
            "timestep 12 should be w/in [ 49460.748695759525 ,  50200.70111238333 [\n",
            "timestep 13 should be w/in [ 49460.748695759525 ,  50200.70111238333 [\n"
          ],
          "name": "stdout"
        }
      ]
    },
    {
      "cell_type": "markdown",
      "metadata": {
        "id": "m80ka88IWyXV"
      },
      "source": [
        "## Get backtesting statistics"
      ]
    },
    {
      "cell_type": "code",
      "metadata": {
        "colab": {
          "base_uri": "https://localhost:8080/"
        },
        "id": "hVqRZY8Ie21q",
        "outputId": "b60570a7-a16d-417b-bde5-b39812841db5"
      },
      "source": [
        "def get_backtest_statistics(key):\r\n",
        "   req = yuce_8.push(\r\n",
        "      {\r\n",
        "        'action': 'get_backtest_statistics',\r\n",
        "        'key': key\r\n",
        "      }, return_result=True)\r\n",
        "   if req.status_code == 200:\r\n",
        "     return req.json()['msg'], req.json()['msg']['api_calls_left_with_this_key'] \r\n",
        "   else:\r\n",
        "     return ';-( ' + req.json()['msg'], -1\r\n",
        "\r\n",
        "# pull the backtesting results:\r\n",
        "results, calls_left = get_backtest_statistics(key)\r\n",
        "print(calls_left)\r\n",
        "print(results)"
      ],
      "execution_count": null,
      "outputs": [
        {
          "output_type": "stream",
          "text": [
            "47\n",
            "{'api_calls_left_with_this_key': 47, 'key': '1c6ebe25-8adb-4f1a-8f5e-e3b1f173482a', 'results': [{'confidence intervals 80%': [[0.9993546966781924, 1.0067109103927305], [0.9994765789958354, 1.0089887110737445], [0.9989641147244258, 1.010385231436463], [0.998996273542468, 1.0117609343280154], [1.0022561405409525, 1.015426173378115], [1.0058736243712516, 1.019854362918177], [1.009218076536624, 1.0241195165419892], [1.0132096853852346, 1.0290156754851267], [1.0169574075276862, 1.033427590793847], [1.0209162601812283, 1.0378324618951877], [1.0252494051765189, 1.0423727795768991], [1.0292334985610558, 1.0463845300796912], [1.033064422333122, 1.050438823974251]], 'confidence intervals 95%': [[0.99732595089868, 1.0087396561722428], [0.9968532596421461, 1.0116120304274339], [0.9958143228306596, 1.0135350233302292], [0.9954759500852515, 1.015281257785232], [0.9986240208702543, 1.019058293048813], [1.0020179228619974, 1.0237100644274313], [1.0051084578261462, 1.028229135252467], [1.0088506038046112, 1.03337475706575], [1.0124151503168897, 1.0379698480046435], [1.0162509970221727, 1.0424977250542433], [1.0205270065494743, 1.0470951782039437], [1.0245034724691071, 1.05111455617164], [1.0282727937360174, 1.0552304525713556]], 'confidence min - max': [[0.9549194574356079, 1.0333847999572754], [0.94089674949646, 1.0481606721878052], [0.9305810928344727, 1.0572657585144043], [0.932847261428833, 1.0633494853973389], [0.9362664818763733, 1.062689185142517], [0.9312664270401001, 1.0646535158157349], [0.9296968579292297, 1.0798943042755127], [0.9319608807563782, 1.0981113910675049], [0.9383216500282288, 1.1077332496643066], [0.9439085721969604, 1.1179593801498413], [0.9462072253227234, 1.120222806930542], [0.9500031471252441, 1.1117286682128906], [0.9546785354614258, 1.1158827543258667]], 'interval': '1d', 'level_1': [0.625, 0.75, 0.75, 0.7, 0.825, 0.875, 0.825, 0.7, 0.775, 0.75, 0.75, 0.825, 0.85], 'level_2': [0.375, 0.25, 0.25, 0.3, 0.175, 0.125, 0.175, 0.3, 0.225, 0.25, 0.25, 0.175, 0.15], 'regime class majority #1': 1.0, 'regime class majority #2': 1.0, 'symbol': '^NSEBANK'}, {'confidence intervals 80%': [[1.0151849665877075, 1.0567716679337769], [1.0273528294755954, 1.0795893473432523], [1.0386974000366445, 1.1068971968261485], [1.0612631994173958, 1.135616664321618], [1.0802408769960608, 1.1676243230466639], [1.089558283535575, 1.1859157879671105], [1.1023197379584992, 1.2152943405632293], [1.1235980827373604, 1.2491412322955986], [1.1520004950309395, 1.2805504121040703], [1.1410021810425135, 1.2594871492492345], [1.1406020802707242, 1.260502846792264], [1.144225630351643, 1.266970363071819], [1.1342490820551232, 1.2615536542272254]], 'confidence intervals 95%': [[1.0037159081680287, 1.0682407263534557], [1.0129466934832447, 1.093995483335603], [1.0198888043011962, 1.1257057925615968], [1.0407575039645232, 1.1561223597744905], [1.0561416862637343, 1.1917235137789903], [1.0629841670096392, 1.2124899044930464], [1.071162847046878, 1.2464512314748506], [1.0889749539517442, 1.2837643610812148], [1.1165481398059447, 1.316002767329065], [1.108325604679596, 1.292163725612152], [1.107460838494671, 1.2936440885683174], [1.1102570512593193, 1.3009389421641426], [1.0989732995357955, 1.2968294367465532]], 'confidence min - max': [[0.8314938545227051, 1.1720832586288452], [0.8370778560638428, 1.2697303295135498], [0.7866241931915283, 1.3575416803359985], [0.8260639309883118, 1.4067306518554688], [0.8259402513504028, 1.4388718605041504], [0.8264017105102539, 1.551417350769043], [0.7555761337280273, 1.6587094068527222], [0.7829535603523254, 1.7188109159469604], [0.7933404445648193, 1.7553893327713013], [0.7983273863792419, 1.7265667915344238], [0.7459394931793213, 1.789126992225647], [0.7729677557945251, 1.6509695053100586], [0.8038802742958069, 1.6861040592193604]], 'interval': '1d', 'level_1': [0.75, 0.85, 0.875, 0.775, 0.8, 0.8, 0.775, 0.775, 0.75, 0.7, 0.575, 0.6, 0.55], 'level_2': [0.25, 0.15, 0.125, 0.225, 0.2, 0.2, 0.225, 0.225, 0.25, 0.3, 0.375, 0.325, 0.35], 'regime class majority #1': 1.0, 'regime class majority #2': 1.0, 'symbol': 'BTC-USD'}, {'confidence intervals 80%': [[1.0021124795653313, 1.0073772951386482], [1.0038370979617093, 1.0104463206936862], [1.0047916909150576, 1.0128250578947569], [1.005062420782307, 1.014792601648113], [1.0072358792262015, 1.0174630934758249], [1.0100252433564392, 1.0206129745695862], [1.0126232646580762, 1.0237806297663623], [1.0155151138633136, 1.0270118465096112], [1.0181811176173576, 1.0296868957646004], [1.0211256272841749, 1.0325466864060107], [1.0242045355610125, 1.035482125205589], [1.0272168852496788, 1.0382068417858437], [1.0304942460430973, 1.0411376623736508]], 'confidence intervals 95%': [[1.0006605135419449, 1.0088292611620346], [1.0020143623474822, 1.0122690563079133], [1.0025761952826875, 1.015040553527127], [1.002378966476679, 1.017476055953741], [1.004415349732328, 1.0202836229696983], [1.0071052880850428, 1.0235329298409825], [1.009546211944235, 1.0268576824802034], [1.0123444681018585, 1.0301824922710663], [1.0150079772272012, 1.0328600361547569], [1.0179758512730193, 1.0356964624171663], [1.021094326521097, 1.0385923342455046], [1.0241860015906428, 1.0412377254448797], [1.0275589335578807, 1.0440729748588673]], 'confidence min - max': [[0.9699942469596863, 1.0245732069015503], [0.9573108553886414, 1.0315754413604736], [0.9470335245132446, 1.0408750772476196], [0.9344943761825562, 1.0453317165374756], [0.9310262203216553, 1.0490343570709229], [0.9389476180076599, 1.0495014190673828], [0.9446364641189575, 1.0603598356246948], [0.9341582655906677, 1.0653566122055054], [0.9361304640769958, 1.0613614320755005], [0.9362204074859619, 1.0654188394546509], [0.9413071870803833, 1.076442003250122], [0.9503284096717834, 1.0867583751678467], [0.9644381999969482, 1.092663049697876]], 'interval': '1d', 'level_1': [0.725, 0.775, 0.725, 0.8, 0.825, 0.325, 0.8, 0.925, 0.85, 0.9, 0.9, 0.9, 0.9], 'level_2': [0.275, 0.225, 0.275, 0.2, 0.175, 0.675, 0.2, 0.075, 0.15, 0.1, 0.1, 0.1, 0.1], 'regime class majority #1': 1.0, 'regime class majority #2': 1.0, 'symbol': '^NSEI'}, {'confidence intervals 80%': [[1.0014079705070729, 1.0080503329444652], [1.0015079605549833, 1.0100603473216037], [1.003756997657223, 1.0130357765432165], [1.0046073645377165, 1.0149434357857698], [1.0062106447351042, 1.017781416879886], [1.0074286253100888, 1.0201053827160342], [1.008740375174661, 1.0223768256767793], [1.0097200562758353, 1.024302990217695], [1.0107417631032964, 1.025673575412939], [1.0123276732313473, 1.0277652718675296], [1.0135830587246608, 1.029251700033884], [1.0145083160501498, 1.0308059959310514], [1.015543186442923, 1.0322029950451141]], 'confidence intervals 95%': [[0.9995760954034146, 1.0098822080481236], [0.9991493261771851, 1.0124189816994018], [1.0011980340062914, 1.015594740194148], [1.0017568137333284, 1.017793986590158], [1.0030195798659538, 1.0209724817490364], [1.003932544434354, 1.023601463591769], [1.0049796237232687, 1.0261375771281718], [1.0056982772961156, 1.0283247691974147], [1.0066237681157677, 1.0297915704004676], [1.008070189110533, 1.032022755988344], [1.0092618561114255, 1.0335729026471194], [1.0100136329757745, 1.0353006790054267], [1.0109486330896968, 1.0367975483983403]], 'confidence min - max': [[0.977259635925293, 1.0446220636367798], [0.9694446921348572, 1.0501245260238647], [0.9592002034187317, 1.0560147762298584], [0.9489071369171143, 1.0493940114974976], [0.9431734681129456, 1.0482159852981567], [0.9384601712226868, 1.0516417026519775], [0.9392409324645996, 1.0622957944869995], [0.9345473051071167, 1.0760735273361206], [0.9302310943603516, 1.0791528224945068], [0.9255824685096741, 1.0666556358337402], [0.9446285367012024, 1.0831955671310425], [0.9265809059143066, 1.085124135017395], [0.9374276399612427, 1.0826722383499146]], 'interval': '1d', 'level_1': [0.55, 0.625, 0.75, 0.325, 0.625, 0.7, 0.775, 0.775, 0.75, 0.75, 0.7, 0.65, 0.65], 'level_2': [0.45, 0.375, 0.25, 0.675, 0.375, 0.3, 0.225, 0.225, 0.25, 0.25, 0.3, 0.35, 0.35], 'regime class majority #1': 1.0, 'regime class majority #2': 1.0, 'symbol': '^BVSP'}]}\n"
          ],
          "name": "stdout"
        }
      ]
    },
    {
      "cell_type": "markdown",
      "metadata": {
        "id": "l7krjHsl157B"
      },
      "source": [
        "# DISCLAIMER\r\n",
        "\r\n",
        "**THIS IS FOR EDUCATIONAL / RESEARCH & DEVELOPMENT PURPOSES ONLY!**\r\n",
        "\r\n",
        "\r\n",
        "The information on this site is provided by YUCE-8 and the author and it is not to be construed as an offer or solicitation for the purchase or sale of any financial instrument or the provision of an offer to provide investment services. Information, opinions and comments contained on this site are not under the scope of investment advisory services. Investment advisory services are given according to the investment advisory contract, signed between the intermediary institutions, portfolio management companies, investment banks and the clients. Opinions and comments contained in this site reflect the personal views of the analysts / AI algorithms who supplied them. The investments discussed or recommended in this report may involve significant risk, may be illiquid and may not be suitable for all investors. Therefore, making decisions with respect to the information in this report may cause inappropriate results and a total loss.\r\n",
        "Futures and forex trading contains substantial risk and is not for every investor. An investor could potentially lose all or more than the initial investment. Risk capital is money that can be lost without jeopardizing ones’ financial security or life style. Only risk capital should be used for trading and only those with sufficient risk capital should consider trading. Past performance is not necessarily indicative of future results\r\n",
        "Hypothetical performance results have many inherent limitations, some of which are described below. no representation is being made that any account will or is likely to achieve profits or losses similar to those shown; in fact, there are frequently sharp differences between hypothetical performance results and the actual results subsequently achieved by any particular trading program. One of the limitations of hypothetical performance results is that they are generally prepared with the benefit of hindsight. In addition, hypothetical trading does not involve financial risk, and no hypothetical trading record can completely account for the impact of financial risk of actual trading. for example, the ability to withstand losses or to adhere to a particular trading program in spite of trading losses are material points which can also adversely affect actual trading results. There are numerous other factors related to the markets in general or to the implementation of any specific trading program which cannot be fully accounted for in the preparation of hypothetical performance results and all which can adversely affect trading results.\r\n",
        "Testimonials appearing on this website may not be representative of other clients or customers and is not a guarantee of future performance or success.\r\n",
        "\r\n",
        "FOR ALL TRADERS, WE BOLDLY IMPLORE THE FOLLOWING:\r\n",
        "\r\n",
        "Always do your own Research\r\n",
        "THIS CONTENT IS INTENDED TO BE USED FOR EDUCATIONAL PURPOSES ONLY.  WE ENCOURAGE ALL TRADERS TO DO THEIR OWN ANALYSIS BEFORE MAKING ANY INVESTMENT CHOICES.\r\n",
        " \r\n",
        "\r\n",
        "Not Investment Advice\r\n",
        "YUCE-8 IS A DATA ANALYTICS PORTAL. YUCE-8 IS NOT A BROKER/DEALER, WE ARE NOT AN INVESTMENT ADVISOR, WE HAVE NO ACCESS TO NON-PUBLIC INFORMATION ABOUT PUBLICLY TRADED COMPANIES, AND THIS IS NOT A PLACE FOR THE GIVING OR RECEIVING OF FINANCIAL ADVICE, ADVICE CONCERNING INVESTMENT DECISIONS OR TAX OR LEGAL ADVICE. WE ARE NOT REGULATED BY THE SEC OR ANY FINANCIAL SERVICES AUTHORITY.\r\n",
        "\r\n",
        " \r\n",
        "No Reliance\r\n",
        "ACCORDINGLY, WE WILL NOT BE LIABLE, WHETHER IN CONTRACT, TORT (INCLUDING NEGLIGENCE) OR OTHERWISE, IN RESPECT OF ANY DAMAGE, EXPENSE OR OTHER LOSS YOU MAY SUFFER ARISING OUT OF SUCH INFORMATION OR ANY RELIANCE YOU MAY PLACE UPON SUCH INFORMATION. ANY ARRANGEMENTS BETWEEN YOU AND ANY THIRD PARTY CONTACTED VIA THE WEBSITE ARE AT YOUR SOLE RISK.\r\n",
        "\r\n",
        "\r\n",
        "\r\n",
        "# Terms and Conditions\r\n",
        "\r\n",
        "ACCESS TO YUCE-8 AND ANY INFORMATION ON THE SITE IS NOT DIRECTED AT ANY PERSON IN ANY JURISDICTION WHERE (BY REASON OF THAT PERSON’S NATIONALITY, RESIDENCE OR OTHERWISE) IT IS PROHIBITED TO ACCESS THE SITE OR DIRECT SUCH INFORMATION FOR ANY REASON. IF YOU ARE A PERSON IN A JURISDICTION IN WHICH SUCH PROHIBITIONS APPLY, YOU MUST NOT ACCESS THIS SITE.\r\n",
        "\r\n",
        "Disclaimer of Warranties\r\n",
        "YUCE-8 & THE SITE IS PROVIDED “AS IS” AND YOUR ACCESS AND USE OF IT IS AT YOUR OWN RISK. TO THE EXTENT PERMITTED BY LAW AND UNLESS OTHERWISE SPECIFICALLY SET OUT IN THIS AGREEMENT, WE MAKE NO WARRANTIES, REPRESENTATIONS OR UNDERTAKINGS IN RESPECT THEREOF AND ALL WARRANTIES REPRESENTATIONS, UNDERTAKINGS, OR OTHER TERMS OF ANY KIND, WHETHER EXPRESS OR IMPLIED BY STATUTE, CUSTOM OR USAGE (INCLUDING WITHOUT LIMITATION, WARRANTIES AS TO SATISFACTORY QUALITY, FITNESS FOR PURPOSE OR SKILL AND CARE) RELATING TO THE SITE AND THE INFORMATION CONTAINED IN OR OMITTED FROM THE SITE ARE EXCLUDED.\r\n",
        "\r\n",
        "WE MAKE NO WARRANTY THAT THE SITE WILL BE ERROR FREE OR UNINTERRUPTED, THAT THE INFORMATION OBTAINED FROM THE SITE WILL BE ACCURATE, COMPLETE, CURRENT, OR RELIABLE, THAT THE QUALITY OF THE SITE WILL BE SATISFACTORY TO YOU, OR THAT ERRORS OR DEFECTS WILL BE CORRECTED\r\n",
        "\r\n",
        "Limitation of Liability\r\n",
        "TO THE FULLEST EXTENT PERMITTED BY LAW, YUCE-8 (AND ITS AFFILIATES, AGENTS OR LICENSORS) EXCLUDES ALL LIABILITY, WHETHER IN CONTRACT, TORT, NEGLIGENCE, MISREPRESENTATION OR OTHERWISE, FOR ANY DIRECT OR INDIRECT LOSS OR DAMAGE CAUSED, DIRECTLY OR INDIRECTLY, BY YOUR USE OF THE SITE OR THE INFORMATION CONTAINED ON THE SITE OR PROVIDED TO YOU PURSUANT TO YOUR USE OF THE SITE.\r\n",
        "\r\n",
        "IN NO CIRCUMSTANCE SHALL YUCE-8 (OR ANY OF ITS AFFILIATES, AGENTS OR LICENSORS) BE LIABLE FOR ANY DIRECT, INDIRECT, INCIDENTAL, SPECIAL OR CONSEQUENTIAL LOSS OR DAMAGES (INCLUDING, WITHOUT LIMITATION, LOSS OF PROFIT, BUSINESS OPPORTUNITY, LOSS OF GOODWILL, ANTICIPATED SAVINGS OR DATA) ARISING FROM: (I) YOUR INABILITY TO USE THE SITE AT ANY TIME OR ANY ERROR IN THE PROVISION OF THE SITE; (II) UNAUTHORIZED ACCESS TO OR ALTERATION OF THE SITE OR ANY INFORMATION OR DATA TRANSMITTED IN RELATION TO THE SITE; (III) ANY ERROR, FAULT, COMPUTER VIRUS OR OTHER COMPUTER OR DATA-CORRUPTING OR DATA-DAMAGING MATERIAL TRANSMITTED THROUGH THE SITE; (IV) THIRD PARTY SERVICES OUTSIDE YUCE-8’S REASONABLE CONTROL (INCLUDING, BUT NOT LIMITED TO, TELEPHONE AND BROWSER SERVICES AND YOUR USE OF EMAIL COMMUNICATIONS TO CONTACT OR INSTRUCT US, AND ANY DELAY IN OUR RECEIPT OR CONFIRMATION OF SUCH A COMMUNICATION, ANY INTERCEPTION OF OR CHANGES TO SUCH A COMMUNICATION AND ANY REASONABLE DELAY IN ACTING ON SUCH A COMMUNICATION), WHETHER SUCH SERVICES ARE USED BY YOU TO ACCESS THE SITE OR OTHERWISE; (V) YOUR USE OF AND/OR RELIANCE ON OTHER WEB SITES TO WHICH YOU HAVE GAINED ACCESS BY MEANS OF HYPERLINKS PUBLISHED ON THE SITE; OR (VI) ANY INACCURATE INFORMATION, MATERIAL OR OPINIONS PUBLISHED ON THE SITE (OR ACCESSED VIA THE SITE) OR YOUR RELIANCE THEREON. FOR THE AVOIDANCE OF DOUBT THIS PROVISION SHALL APPLY WHETHER OR NOT THE RELEVANT LOSS OR DAMAGE ARISES BY REASON OF YUCE-8’S NEGLIGENCE OR IN CONTRACT, TORT, MISREPRESENTATION OR OTHERWISE.\r\n",
        "\r\n",
        "YUCE-8’S LIABILITY IS LIMITED EVEN IF IT HAS BEEN ADVISED OF THE POSSIBILITY OF THE DAMAGES THAT YOU SUFFER OR IF ANY REMEDY YOU HAVE FAILS ITS ESSENTIAL PURPOSE. THIS DISCLAIMER OF LIABILITY APPLIES TO ANY AND ALL DAMAGES OR INJURY, INCLUDING THOSE CAUSED BY ANY FAILURE OF PERFORMANCE, ERROR, OMISSION, INTERRUPTION, DELETION, DEFECT, DELAY IN OPERATION OR TRANSMISSION, COMPUTER VIRUS, COMMUNICATION LINE FAILURE, THEFT, DESTRUCTION OR UNAUTHORIZED ACCESS TO, ALTERATION OF OR USE OF ANY ASSET, WHETHER FOR BREACH OF CONTRACT, TORTIOUS BEHAVIOR, NEGLIGENCE OR UNDER ANY OTHER CAUSE OF ACTION. IF YOU HAVE A DISPUTE WITH US OR ARE DISSATISFIED WITH THE SITE, TERMINATION OF YOUR USE OF THE SITE IS YOUR SOLE REMEDY. WE HAVE NO OTHER OBLIGATION, LIABILITY, OR RESPONSIBILITY TO YOU.\r\n",
        "\r\n",
        "Use Restrictions\r\n",
        "AS A VISITOR TO THE SITE, YOU MAY VIEW THE SITE AND YOU ARE PERMITTED TO PRINT HARD COPIES OF MATERIAL ON IT FOR YOUR PERSONAL, NON-COMMERCIAL USE. ALL OTHER COPYING OR DISTRIBUTION OF ANY PART OF THE SITE WHETHER IN ELECTRONIC, HARD COPY OR OTHER FORMAT IS PROHIBITED. ANY COPIES MUST NOT ALTER THE ORIGINAL CONTENT AND MUST REPRODUCE OUR COPYRIGHT NOTICES.\r\n",
        "\r\n",
        "YOUR USE OF THE SITE IS CONDITIONED ON YOUR FULL COMPLIANCE WITH THIS AGREEMENT INCLUDING, WITHOUT LIMITATION, THE RULES OF CONDUCT SET FORTH IN THIS SECTION AND YOUR FAILURE TO COMPLY WITH SUCH RULES MAY RESULT IN TERMINATION OF YOUR ACCESS TO THE SITE PURSUANT TO THIS AGREEMENT. YOU AGREE THAT WHEN USING THE SITE YOU WILL NOT:\r\n",
        "\r\n",
        "TRANSMIT BY ANY MEANS ANY SOFTWARE, VIRUS, MALWARE, PROGRAM, CODE, FILE, OR OTHER MATERIAL INTENDED TO INTERRUPT, DISRUPT, ALTER, DESTROY, OR LIMIT ANY PART OF THE SITE;\r\n",
        "\r\n",
        "USE ANY ROBOT, SPIDER, SCRIPT, OR ANY MANUAL OR AUTOMATED APPLICATION OR MEANS TO EXTRACT, DOWNLOAD, RETRIEVE, INDEX, MINE, SCRAPE, REPRODUCE, OR CIRCUMVENT THE PRESENTATION, OPERATION, OR INTENDED USE OF ANY FEATURE, FUNCTION, OR PART OF THE SITE;\r\n",
        "\r\n",
        "FRAME OR MIRROR ANY PART OF THE SITE WITHOUT OUR EXPRESS PRIOR WRITTEN CONSENT;\r\n",
        "\r\n",
        "MODIFY, ADAPT, TRANSLATE, REVERSE ENGINEER, DECOMPILE OR DISASSEMBLE ANY PORTION OF THE SITE;\r\n",
        "\r\n",
        "POST OR SUBMIT ANY OFFENSIVE, DEFAMATORY, THREATENING, INDECENT, HATEFUL, RACIST, SEXIST, PORNOGRAPHIC, OR OTHERWISE INAPPROPRIATE OR OBSCENE CONTENT (AS DETERMINED BY US IN OUR SOLE DISCRETION);\r\n",
        "\r\n",
        "COPY, DOWNLOAD, DISTRIBUTE, TRANSMIT, UPLOAD, OR TRANSFER CONTENT FROM THE SITE WITHOUT OUR PRIOR WRITTEN PERMISSION OR AS OTHERWISE PERMITTED UNDER THIS AGREEMENT;\r\n",
        "\r\n",
        "RESELL, SUB-LICENSE, OR LEASE ANY OF THE CONTENT ON THE SITE;\r\n",
        "\r\n",
        "USE THE SITE TO MAKE UNSOLICITED OFFERS, REQUESTS, ADVERTISEMENTS, OR SPAM;\r\n",
        "\r\n",
        "IMPERSONATE OR PRETEND TO BE ANYONE ELSE BUT YOU; FALSELY STATE OR OTHERWISE MISREPRESENT YOUR AFFILIATION WITH ANY PERSON OR ENTITY IN CONNECTION WITH THE SITE; OR EXPRESS OR IMPLY THAT WE ENDORSE ANY STATEMENT YOU MAKE;\r\n",
        "\r\n",
        "REMOVE ANY COPYRIGHT, TRADEMARK OR OTHER PROPRIETARY NOTICE OR LEGEND CONTAINED ON THE SITE;\r\n",
        "\r\n",
        "VIOLATE OR INFRINGE UPON THE PRIVACY, PUBLICITY, INTELLECTUAL PROPERTY, OR OTHER PROPRIETARY RIGHTS OF THIRD PARTIES; OR\r\n",
        "\r\n",
        "ENGAGE IN ANY ACTIVITY THAT IS CRIMINAL OR TORTIOUS IN NATURE, OR OTHERWISE VIOLATES THE LAW OR RIGHTS OF ANOTHER INCLUDING, WITHOUT LIMITATION, HACKING, PHISHING, FRAUD, DEFAMING, ABUSING, HARASSING, OR THREATENING.\r\n",
        "\r\n",
        "IF WE TERMINATE OR SUSPEND YOUR ACCOUNT FOR ANY REASON, YOU ARE PROHIBITED FROM REGISTERING AND CREATING A NEW ACCOUNT UNDER YOUR NAME, A FAKE OR BORROWED NAME, OR THE NAME OF ANY THIRD PARTY, EVEN IF YOU MAY BE ACTING ON BEHALF OF THE THIRD PARTY. IN ADDITION TO TERMINATING OR SUSPENDING YOUR ACCOUNT, WE RESERVE THE RIGHT TO TAKE APPROPRIATE LEGAL ACTION, INCLUDING WITHOUT LIMITATION PURSUING CIVIL, CRIMINAL, AND INJUNCTIVE REDRESS.\r\n",
        "\r\n",
        "\r\n",
        "Changes\r\n",
        "YUCE-8 RESERVES THE RIGHT TO MAKE ANY CHANGES TO THESE TERMS AND CONDITIONS AT ANY TIME AND IT IS YOUR RESPONSIBILITY TO CHECK FOR ANY CHANGES TO THESE TERMS AND CONDITIONS. IF WE CHANGE THIS AGREEMENT, WE WILL UPDATE THE EFFECTIVE DATE LISTED BELOW. YOUR CONTINUED USE OF THE SITE MEANS THAT YOU AGREE WITH THE UPDATED AGREEMENT. IF YOU DO NOT AGREE WITH OUR UPDATED AGREEMENT, YOU MAY NOT USE OUR SITE.\r\n",
        "\r\n",
        "Miscellaneous\r\n",
        "IF A COMPETENT COURT OF LAW OR AUTHORITY FINDS THAT ANY PART OF THESE TERMS AND CONDITIONS IS INVALID, UNLAWFUL OR UNENFORCEABLE TO ANY EXTENT, THE REMAINDER OF THESE TERMS AND CONDITIONS SHALL CONTINUE TO BE VALID AND ENFORCEABLE TO THE FULLEST EXTENT PERMITTED BY UNITED STATES LAW.\r\n",
        "\r\n",
        "THESE TERMS AND CONDITIONS ARE GOVERNED BY THE LAWS OF THE STATE OF NEW YORK AND UNITED STATES LAW. THE COURTS OF NEW YORK SITUATED IN MANHATTAN SHALL HAVE EXCLUSIVE JURISDICTION IN RELATION TO ANY DISPUTE ARISING OUT OF YOUR USE OF THE SITE OR ARISING FROM OR CONNECTED WITH THESE TERMS AND CONDITIONS AND YOU HEREBY SUBMIT TO THE EXCLUSIVE JURISDICTION OF THE COURTS OF NEW YORK. YOU AGREE THAT YOU WILL NOT FILE A CLASS ACTION, OR PARTICIPATE IN A CLASS ACTION AGAINST US.\r\n",
        "\r\n",
        "Investment Solicitation\r\n",
        "THE INFORMATION AND MATERIALS CONTAINED IN THIS WEBSITE ARE PRESENTED FOR INFORMATIONAL PURPOSES ONLY, AND DO NOT CONSTITUTE AN OFFER TO SELL OR A SOLICITATION OF AN OFFER TO BUY INTERESTS IN ANY FUND OR OTHER INVESTMENT. NONE OF SUCH INFORMATION AND MATERIALS SHOULD BE CONSTRUED AS PROVIDING ANY TYPE OF INVESTMENT OR OTHER ADVICE TO YOU, NOR SHOULD YOU CONSIDER IT AS A SOLICITATION, RECOMMENDATION, ENDORSEMENT OR OFFER TO YOU TO BUY OR SELL ANY SECURITY OR OTHER FINANCIAL INSTRUMENT, EFFECT ANY TRANSACTION OR CONCLUDE ANY LEGAL ACT OF ANY KIND WHATSOEVER.\r\n",
        "\r\n",
        "YUCE-8 IS NOT REGISTERED WITH THE US SECURITIES AND EXCHANGE COMMISSION (“SEC”) OR ANY STATE SECURITIES REGULATORY AUTHORITY AS A SECURITIES BROKER, DEALER OR INVESTMENT ADVISOR. WE ARE NOT LICENSED TO GIVE ANY KIND OF INVESTMENT ADVICE. WE DO NOT GIVE INVESTMENT ADVICE IN ANY MANNER. WE DO NOT PROVIDE LEGAL, TAX, ACCOUNTING, OR INVESTMENT ADVICE. SINCE YOUR SITUATION IS UNIQUE, YOU SHOULD ALWAYS CONSULT WITH A QUALIFIED PROFESSIONAL MAKING FINANCIAL DECISIONS."
      ]
    }
  ]
}